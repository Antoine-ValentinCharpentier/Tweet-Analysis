{
 "cells": [
  {
   "cell_type": "markdown",
   "id": "11759014",
   "metadata": {},
   "source": [
    "# Import Data\n",
    "\n",
    "## Présentation\n",
    "Lorsqu'il est nécessaire de mettre à jour la base de données MongoDB avec de nouvelles données, il peut être pratique de supprimer tous les documents (Tweets) de la collection existante et d'insérer les nouveaux documents à partir des fichiers JSON contenu dans le dossier ``data`` à la racine du projet pour garantir la cohérence des données et s'assurer que nous ne disposons pas de données modifiées. Dans ce cas-ci, ce script peut être utilisé.\n",
    "\n",
    "Que fait-il ?\n",
    "1. Suppression des données existantes dans la base de données MongoDB ayant pour nom Tweet\n",
    "2. Lecture des données présente dans le dossier ``data`` à la racine du projet. A noter que nous n'avons pas commit ces données à cause d'une taille volumineuse. Elles peuvent être téléchargées via le lien suivant : [Cliquer ici](https://www.dropbox.com/s/qfhaobip55xxkif/Tweet%20Worldcup.zip?dl=0)\n",
    "3. Insertions des données lues dans la base de données\n",
    "\n",
    "## Le code\n",
    "On importe les différentes bibliothèques nécessaires."
   ]
  },
  {
   "cell_type": "code",
   "execution_count": null,
   "id": "74932b59",
   "metadata": {},
   "outputs": [],
   "source": [
    "import pymongo\n",
    "import json\n",
    "import os\n",
    "from datetime import datetime\n",
    "import numpy as np"
   ]
  },
  {
   "cell_type": "markdown",
   "id": "e1e524f6",
   "metadata": {},
   "source": [
    "Connexion à la base de données MongoDB"
   ]
  },
  {
   "cell_type": "code",
   "execution_count": null,
   "id": "54474211",
   "metadata": {},
   "outputs": [],
   "source": [
    "client = pymongo.MongoClient(\"mongodb://localhost:27017\")\n",
    "db = client[\"Tweet\"]\n",
    "collection = db[\"dataset\"]"
   ]
  },
  {
   "cell_type": "markdown",
   "id": "ade3fc83",
   "metadata": {},
   "source": [
    "Suppression de tous les documents de la collection"
   ]
  },
  {
   "cell_type": "code",
   "execution_count": null,
   "id": "a3871745",
   "metadata": {},
   "outputs": [],
   "source": [
    "collection.delete_many({})"
   ]
  },
  {
   "cell_type": "code",
   "execution_count": null,
   "id": "9b4c28a4",
   "metadata": {},
   "outputs": [],
   "source": [
    "tweet_features_to_keep = [\"created_date\",\"id\",\"text\",\"entities\",\"favorite_count\",\"lang\",\"possibly_sensitive\",\"retweet_count\",\"source\",\"user\"]\n",
    "user_features_to_keep = [\"friends_count\",\"favourites_count\",\"created_at\",\"id\",\"verified\",\"followers_count\",\"statuses_count\"]\n",
    "def filter_features(tweet):\n",
    "    tweet_keys = list(tweet.keys())\n",
    "    tweet_user_keys = list(tweet['user'].keys())\n",
    "    for key in tweet_keys:\n",
    "        if key not in tweet_features_to_keep:\n",
    "            tweet.pop(key, None)\n",
    "    for key in tweet_user_keys:\n",
    "        if key not in user_features_to_keep:\n",
    "            tweet['user'].pop(key, None)"
   ]
  },
  {
   "cell_type": "markdown",
   "id": "22fa43ae",
   "metadata": {},
   "source": [
    "Définition de la fonction pour upload dans mongodb tout les documents contenus dans un fichier"
   ]
  },
  {
   "cell_type": "code",
   "execution_count": null,
   "id": "997d5148",
   "metadata": {},
   "outputs": [],
   "source": [
    "def upload_file_data(path):\n",
    "    with open(path, encoding='UTF-8') as f:\n",
    "        docs = []\n",
    "        for line in f:\n",
    "            doc = json.loads(line)\n",
    "            filter_features(doc)\n",
    "            doc[\"created_date\"] = datetime.strptime(doc[\"created_date\"],\"%Y-%m-%d %H:%M:%S\")\n",
    "            doc[\"user\"][\"created_at\"] = datetime.strptime(doc[\"user\"][\"created_at\"], \"%a %b %d %H:%M:%S %z %Y\")\n",
    "            docs.append(doc)\n",
    "        if len(docs) > 0:\n",
    "            collection.insert_many(docs)\n"
   ]
  },
  {
   "cell_type": "markdown",
   "id": "4844f7de",
   "metadata": {},
   "source": [
    "Récupération des noms des fichiers JSON dans le dossier approprié"
   ]
  },
  {
   "cell_type": "code",
   "execution_count": null,
   "id": "6f66df43",
   "metadata": {},
   "outputs": [],
   "source": [
    "path = \"../../data\"\n",
    "all_files = os.listdir(path)"
   ]
  },
  {
   "cell_type": "markdown",
   "id": "e7e9975c",
   "metadata": {},
   "source": [
    "On parcourt l'ensemble des fichiers pour upload les documents qui le constitue tout en affichant des statistiques pour suivre l'évolution de l'importation des données dans MongoDB"
   ]
  },
  {
   "cell_type": "code",
   "execution_count": null,
   "id": "b0560174",
   "metadata": {
    "scrolled": true
   },
   "outputs": [],
   "source": [
    "start_time = datetime.now()\n",
    "print(f\">>>> Start : {start_time}\")\n",
    "\n",
    "# begins upload\n",
    "nb_files = len(all_files)\n",
    "for idx_files, file in enumerate(all_files):\n",
    "    start_file_time = datetime.now() \n",
    "    if file.endswith(\".json\"):\n",
    "        upload_file_data(f\"{path}/{file}\")\n",
    "    time_for_this_file = (datetime.now()  - start_file_time).seconds\n",
    "    percentage = round(idx_files*100/nb_files,2)\n",
    "    print(f\" - Upload files n°{idx_files}/{nb_files} in {time_for_this_file}s ({percentage}%)\")\n",
    "\n",
    "# some stats\n",
    "end_time = datetime.now()     \n",
    "print(f\">>>> End : {end_time}\")\n",
    "diff_time = end_time - start_time\n",
    "print(f\"Upload done in {diff_time.seconds // 3600}h {(diff_time.seconds // 60) % 60}min {diff_time.seconds % 60}sec \")"
   ]
  },
  {
   "cell_type": "markdown",
   "id": "151e4f98",
   "metadata": {},
   "source": [
    "## Suppression des doublons\n",
    "\n",
    "On peut exécuter la cellue suivante afin d'observer si la base de données  comporte ou non des doublons. Ils sont triés par ordre décroissant du nombre total d'apparitions. C'est à dire que les premiers résultats désigne les documents qui apparaissent le plus fréquemment."
   ]
  },
  {
   "cell_type": "code",
   "execution_count": null,
   "id": "33d8bb9a",
   "metadata": {},
   "outputs": [],
   "source": [
    "res = collection.aggregate([\n",
    "    {\n",
    "        \"$group\": {\n",
    "            \"_id\": \"$id\",\n",
    "            \"count\": { \"$sum\": 1 }\n",
    "        }\n",
    "    },\n",
    "    {\n",
    "        \"$match\": {\n",
    "            \"count\": { \"$gt\": 1 }\n",
    "        }\n",
    "    },\n",
    "    { \n",
    "        \"$sort\" : { \n",
    "            \"count\" : -1 \n",
    "        } \n",
    "    }\n",
    "])\n",
    "\n",
    "docs = []\n",
    "for doc in res:\n",
    "    print(doc)\n",
    "    docs.append(doc)\n",
    "\n",
    "if len(docs) == 0:\n",
    "    print('Aucun doublon')"
   ]
  },
  {
   "cell_type": "markdown",
   "id": "d988e7d6",
   "metadata": {},
   "source": [
    "On supprime les doublons"
   ]
  },
  {
   "cell_type": "code",
   "execution_count": null,
   "id": "9f48c130",
   "metadata": {},
   "outputs": [],
   "source": [
    "pipeline = [\n",
    "    {\"$group\": {\"_id\": \"$id\", \"count\": {\"$sum\": 1}, \"dups\": {\"$addToSet\": \"$_id\"}}},\n",
    "    {\"$match\": {\"count\": {\"$gt\": 1}}}\n",
    "]\n",
    "\n",
    "duplicates = []\n",
    "for doc in collection.aggregate(pipeline):\n",
    "    duplicates.extend(doc[\"dups\"][1:])\n",
    "\n",
    "collection.delete_many({\"_id\": {\"$in\": duplicates}})"
   ]
  },
  {
   "cell_type": "markdown",
   "id": "e0b2181e",
   "metadata": {},
   "source": [
    "## Creation d'indexs \n",
    "Afin de rendre les requêtes à suivre plus rapides on crée des indexes au sein de notre base de données mongoDB"
   ]
  },
  {
   "cell_type": "code",
   "execution_count": null,
   "id": "fb25a04f",
   "metadata": {},
   "outputs": [],
   "source": [
    "collection.create_index([(\"id\",1)])\n",
    "collection.create_index([(\"user.id\",1)])\n",
    "collection.create_index([(\"user.id\",1),(\"id\",1)])\n",
    "collection.create_index([(\"user.id\",1),(\"created_date\",1)])"
   ]
  }
 ],
 "metadata": {
  "kernelspec": {
   "display_name": "Python 3 (ipykernel)",
   "language": "python",
   "name": "python3"
  },
  "language_info": {
   "codemirror_mode": {
    "name": "ipython",
    "version": 3
   },
   "file_extension": ".py",
   "mimetype": "text/x-python",
   "name": "python",
   "nbconvert_exporter": "python",
   "pygments_lexer": "ipython3",
   "version": "3.9.13"
  },
  "vscode": {
   "interpreter": {
    "hash": "9e8942728792b4f803710fcef6ec9d08fd61899a3575dab23084978499f50197"
   }
  }
 },
 "nbformat": 4,
 "nbformat_minor": 5
}
