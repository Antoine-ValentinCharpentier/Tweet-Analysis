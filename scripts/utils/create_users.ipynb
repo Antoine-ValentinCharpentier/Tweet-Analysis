{
 "cells": [
  {
   "cell_type": "code",
   "execution_count": null,
   "metadata": {},
   "outputs": [],
   "source": [
    "import pymongo"
   ]
  },
  {
   "cell_type": "code",
   "execution_count": null,
   "metadata": {},
   "outputs": [],
   "source": [
    "client = pymongo.MongoClient(\"mongodb://localhost:27017\")\n",
    "db = client[\"Tweet\"]\n",
    "tweet_collection = db[\"dataset\"]\n",
    "user_collection = db[\"users\"]"
   ]
  },
  {
   "cell_type": "markdown",
   "metadata": {},
   "source": [
    "Récupération du dernier tweet de la base de données pour pouvoir par la suite estimer l'âge d'un compte utilisateur à partir de cette date et non celle d'aujourd'hui pour éviter d'avoir des valeurs énormes, car les tweets sont figés."
   ]
  },
  {
   "cell_type": "code",
   "execution_count": null,
   "metadata": {},
   "outputs": [],
   "source": [
    "pipeline = [\n",
    "    {\n",
    "        \"$sort\" : {\n",
    "            \"created_date\" : -1\n",
    "        }\n",
    "    },\n",
    "    {\n",
    "        \"$limit\": 1\n",
    "    }\n",
    "]\n",
    "last_tweet_published = tweet_collection.aggregate(pipeline)\n",
    "last_tweet_published = list(last_tweet_published)[0]\n",
    "last_tweet_published"
   ]
  },
  {
   "cell_type": "code",
   "execution_count": null,
   "metadata": {},
   "outputs": [],
   "source": [
    "users = tweet_collection.aggregate([\n",
    "    {\n",
    "        \"$group\": {\n",
    "            \"_id\": \"$user.id\",\n",
    "            \"tweets\": { \"$push\": \"$$ROOT\" }\n",
    "        }\n",
    "    },\n",
    "    {\n",
    "        \"$project\": {\n",
    "            \"_id\": 0,\n",
    "            \"user_id\": \"$_id\",\n",
    "            \"tweets\": 1\n",
    "        }\n",
    "    },\n",
    "    {\n",
    "        \"$sort\" : {\n",
    "            \"tweets.created_date\" : 1\n",
    "        }\n",
    "    },\n",
    "    {\n",
    "        \"$addFields\": {\n",
    "            \"verified\": {\"$last\": \"$tweets.user.verified\"},\n",
    "            \"statuses_count\": {\"$last\": \"$tweets.user.statuses_count\"},\n",
    "            \"favourites_count\": {\"$last\": \"$tweets.user.favourites_count\"},\n",
    "            \"age_account\": {\n",
    "                \"$divide\": [\n",
    "                  {\n",
    "                    \"$subtract\": [last_tweet_published['created_date'], {\"$last\": \"$tweets.user.created_at\"}]\n",
    "                  },\n",
    "                  86400000 # nombre de millisecondes dans une journée\n",
    "                ]\n",
    "            },\n",
    "            \"last_tweet_published_id\": {\"$last\": \"$tweets._id\"},\n",
    "        }\n",
    "    },\n",
    "    {\n",
    "        \"$addFields\": {\n",
    "            \"avg_tweet_length\": {\n",
    "                \"$avg\": {\n",
    "                    \"$map\": {\n",
    "                        \"input\": \"$tweets\",\n",
    "                        \"as\": \"tweet\",\n",
    "                        \"in\": { \"$strLenCP\": \"$$tweet.text\" }\n",
    "                    }\n",
    "                }\n",
    "            },\n",
    "            \"tweet_frequency\": { \"$size\": \"$tweets\" },\n",
    "        }\n",
    "    },\n",
    "    {\n",
    "        \"$project\": {\n",
    "            \"user_id\": 1,\n",
    "            \"tweet_ids\": \"$tweets._id\",\n",
    "            \"avg_tweet_length\": 1,\n",
    "            \"tweet_frequency\": 1,\n",
    "            \"last_tweet_published_id\": 1,\n",
    "            \"verified\": 1,\n",
    "            \"statuses_count\": 1,\n",
    "            \"favourites_count\": 1,\n",
    "            \"ratio_friends_followers\": 1,\n",
    "            \"age_account\": 1,\n",
    "            \"_id\": 0\n",
    "        }\n",
    "    }\n",
    "])\n",
    "\n",
    "user_collection.insert_many(list(users))\n",
    "\n"
   ]
  },
  {
   "cell_type": "code",
   "execution_count": null,
   "metadata": {},
   "outputs": [],
   "source": [
    "pipeline = [\n",
    "    {\"$unwind\": \"$tweet_ids\"},\n",
    "    {\"$group\": {\"_id\": \"$user_id\", \"tweet_ids_count\": {\"$sum\": 1}}},\n",
    "    {\"$sort\":{\"tweet_ids_count\":-1}}\n",
    "]\n",
    "\n",
    "# Execute the aggregation pipeline\n",
    "result = user_collection.aggregate(pipeline)\n",
    "\n",
    "# Print the results\n",
    "for doc in result:\n",
    "    print(\"user_id: {}, tweet_ids_count: {}\".format(doc[\"_id\"], doc[\"tweet_ids_count\"]))"
   ]
  }
 ],
 "metadata": {
  "kernelspec": {
   "display_name": "Python 3 (ipykernel)",
   "language": "python",
   "name": "python3"
  },
  "language_info": {
   "codemirror_mode": {
    "name": "ipython",
    "version": 3
   },
   "file_extension": ".py",
   "mimetype": "text/x-python",
   "name": "python",
   "nbconvert_exporter": "python",
   "pygments_lexer": "ipython3",
   "version": "3.9.13"
  }
 },
 "nbformat": 4,
 "nbformat_minor": 2
}
