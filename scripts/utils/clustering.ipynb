{
 "cells": [
  {
   "cell_type": "code",
   "execution_count": null,
   "id": "50658f27",
   "metadata": {},
   "outputs": [],
   "source": [
    "import pandas as pd\n",
    "from matplotlib import pyplot as plt\n",
    "from sklearn.cluster import KMeans\n",
    "from sklearn.decomposition import PCA\n",
    "from sklearn.metrics import silhouette_score\n",
    "from sklearn.model_selection import train_test_split\n",
    "from sklearn.preprocessing import StandardScaler\n",
    "from pandas.plotting import scatter_matrix\n",
    "import seaborn as sns\n",
    "import numpy as np\n",
    "import pymongo"
   ]
  },
  {
   "cell_type": "markdown",
   "id": "11710c39",
   "metadata": {},
   "source": [
    "# Importation des données"
   ]
  },
  {
   "cell_type": "code",
   "execution_count": null,
   "id": "7513aa75",
   "metadata": {},
   "outputs": [],
   "source": [
    "client = pymongo.MongoClient(\"mongodb://localhost:27017\")\n",
    "db = client[\"Tweet\"]\n",
    "user_collection = db[\"users\"]"
   ]
  },
  {
   "cell_type": "markdown",
   "id": "fc5e528e",
   "metadata": {},
   "source": [
    "Suppression des colonnes non utilisées lors du kmeans"
   ]
  },
  {
   "cell_type": "code",
   "execution_count": null,
   "id": "2f6e6c17",
   "metadata": {},
   "outputs": [],
   "source": []
  },
  {
   "cell_type": "code",
   "execution_count": null,
   "id": "f6cd3f1b",
   "metadata": {},
   "outputs": [],
   "source": [
    "users = list(user_collection.find({}))\n",
    "users = pd.DataFrame(users)\n",
    "users.index = users.user_id\n",
    "users = users.drop(columns=[\"_id\",\"user_id\",\"last_tweet_published_id\",\"tweet_ids\",\"friends_count\",\"followers_count\"])\n",
    "users.columns"
   ]
  },
  {
   "cell_type": "code",
   "execution_count": null,
   "id": "e6aaf397",
   "metadata": {},
   "outputs": [],
   "source": [
    "users.head()"
   ]
  },
  {
   "cell_type": "markdown",
   "id": "1e3e6df9",
   "metadata": {},
   "source": [
    "On retire tweet_frequency de nos données sachant qu'il est corrélé avec l'agressivité. Ce paramètre n'apporte pas d'informations supplémentaires. Une visualisation de cette corrélation peut être observée dans le script ``previewData``"
   ]
  },
  {
   "cell_type": "code",
   "execution_count": null,
   "id": "f5e060c8",
   "metadata": {},
   "outputs": [],
   "source": [
    "users = users.drop(columns=[\"tweet_frequency\"])"
   ]
  },
  {
   "cell_type": "markdown",
   "id": "ff22788f",
   "metadata": {},
   "source": [
    "# Clustering avec KMeans"
   ]
  },
  {
   "cell_type": "code",
   "execution_count": null,
   "id": "49828f72",
   "metadata": {},
   "outputs": [],
   "source": [
    "model = KMeans(n_clusters=2)\n",
    "model.fit(users)\n",
    "inertia_scores = model.inertia_\n",
    "print(\"Inertie:\",inertia_scores)"
   ]
  },
  {
   "cell_type": "code",
   "execution_count": null,
   "id": "17b20210",
   "metadata": {},
   "outputs": [],
   "source": [
    "users[\"label\"] = model.labels_\n",
    "users[\"label\"].value_counts()"
   ]
  },
  {
   "cell_type": "code",
   "execution_count": null,
   "id": "3ac68838",
   "metadata": {},
   "outputs": [],
   "source": [
    "silhouette_score(users,model.labels_)"
   ]
  },
  {
   "cell_type": "code",
   "execution_count": null,
   "id": "b32c221d",
   "metadata": {},
   "outputs": [],
   "source": [
    "users.groupby(model.labels_).mean()"
   ]
  },
  {
   "cell_type": "markdown",
   "id": "6f1bbb11",
   "metadata": {},
   "source": [
    "# Exemple pour le moment, à modifier avec le cours ACP\n",
    "\n",
    "# Mise en place de l'ACP pour representer les resultats du clustering"
   ]
  },
  {
   "cell_type": "code",
   "execution_count": null,
   "id": "b8e54cab",
   "metadata": {},
   "outputs": [],
   "source": [
    "acp = PCA(n_components=2)"
   ]
  },
  {
   "cell_type": "code",
   "execution_count": null,
   "id": "0042b6b4",
   "metadata": {},
   "outputs": [],
   "source": [
    "result =acp.fit_transform(X_CR)"
   ]
  },
  {
   "cell_type": "code",
   "execution_count": null,
   "id": "7aa8bf8e",
   "metadata": {},
   "outputs": [],
   "source": [
    "resultat = pd.DataFrame(result, columns = [\"CP1\",\"CP2\"])\n",
    "resultat.head()"
   ]
  },
  {
   "cell_type": "markdown",
   "id": "e150cad0",
   "metadata": {},
   "source": [
    "# Presentation des clusters"
   ]
  },
  {
   "cell_type": "code",
   "execution_count": null,
   "id": "55fe956e",
   "metadata": {},
   "outputs": [],
   "source": [
    "# Create scatter plot of `PC2` vs `PC1`\n",
    "fig = px.scatter(\n",
    "    data_frame = resultat,\n",
    "    x= \"CP1\",\n",
    "    y = \"CP2\",\n",
    "    color = labels,\n",
    "    title = \"PCA Representation of Clusters\"\n",
    ")\n",
    "fig.update_layout(xaxis_title = \"Cluster\", yaxis_title =\"Value\" )\n",
    "fig.show()"
   ]
  }
 ],
 "metadata": {
  "kernelspec": {
   "display_name": "Python 3 (ipykernel)",
   "language": "python",
   "name": "python3"
  },
  "language_info": {
   "codemirror_mode": {
    "name": "ipython",
    "version": 3
   },
   "file_extension": ".py",
   "mimetype": "text/x-python",
   "name": "python",
   "nbconvert_exporter": "python",
   "pygments_lexer": "ipython3",
   "version": "3.9.13"
  }
 },
 "nbformat": 4,
 "nbformat_minor": 5
}
