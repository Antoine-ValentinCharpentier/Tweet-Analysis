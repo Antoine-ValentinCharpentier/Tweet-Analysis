{
   "cells": [
      {
         "attachments": {},
         "cell_type": "markdown",
         "id": "cb43c525",
         "metadata": {},
         "source": [
            "Cellule utilisée afin de vider le cache de viariables du notebook jupyter"
         ]
      },
      {
         "cell_type": "code",
         "execution_count": 1,
         "id": "0e75ef84",
         "metadata": {},
         "outputs": [],
         "source": [
            "%reset"
         ]
      },
      {
         "cell_type": "code",
         "execution_count": 2,
         "id": "50658f27",
         "metadata": {},
         "outputs": [],
         "source": [
            "import pandas as pd\n",
            "from matplotlib import pyplot as plt\n",
            "from sklearn.cluster import KMeans\n",
            "from sklearn.decomposition import PCA\n",
            "from sklearn.metrics import silhouette_score\n",
            "from sklearn.model_selection import train_test_split\n",
            "from sklearn.preprocessing import StandardScaler\n",
            "import pymongo\n",
            "import numpy as np \n",
            "from joblib import Parallel, delayed"
         ]
      },
      {
         "attachments": {},
         "cell_type": "markdown",
         "id": "11710c39",
         "metadata": {},
         "source": [
            "# Importation des données"
         ]
      },
      {
         "cell_type": "code",
         "execution_count": 3,
         "id": "7513aa75",
         "metadata": {},
         "outputs": [],
         "source": [
            "client = pymongo.MongoClient(\"mongodb://localhost:27017\")\n",
            "db = client[\"Tweet\"]\n",
            "user_collection = db[\"users\"]"
         ]
      },
      {
         "attachments": {},
         "cell_type": "markdown",
         "id": "fc5e528e",
         "metadata": {},
         "source": [
            "## Suppression des colonnes non utilisées lors du kmeans\n",
            "On retire toutes les colonnes qui ne sont pas des attributs de nos utilisateurs.  \n",
            "De plus supprime l'attribut tweet_frequency de nos données sachant qu'il est corrélé avec l'agressivité. Ce paramètre n'apporte pas d'informations supplémentaires. Une visualisation de cette corrélation peut être observée dans le script ``previewData``"
         ]
      },
      {
         "cell_type": "code",
         "execution_count": 4,
         "id": "f6cd3f1b",
         "metadata": {},
         "outputs": [
            {
               "data": {
                  "text/html": [
                     "<div>\n",
                     "<style scoped>\n",
                     "    .dataframe tbody tr th:only-of-type {\n",
                     "        vertical-align: middle;\n",
                     "    }\n",
                     "\n",
                     "    .dataframe tbody tr th {\n",
                     "        vertical-align: top;\n",
                     "    }\n",
                     "\n",
                     "    .dataframe thead th {\n",
                     "        text-align: right;\n",
                     "    }\n",
                     "</style>\n",
                     "<table border=\"1\" class=\"dataframe\">\n",
                     "  <thead>\n",
                     "    <tr style=\"text-align: right;\">\n",
                     "      <th></th>\n",
                     "      <th>hashtag_frequency</th>\n",
                     "      <th>verified</th>\n",
                     "      <th>statuses_count</th>\n",
                     "      <th>favourites_count</th>\n",
                     "      <th>age_account</th>\n",
                     "      <th>ratio_friends_followers</th>\n",
                     "      <th>avg_tweet_length</th>\n",
                     "      <th>nb_sensitive_tweets</th>\n",
                     "      <th>Ap</th>\n",
                     "      <th>visibility</th>\n",
                     "      <th>ratio_sensitive_tweets</th>\n",
                     "      <th>ratio_punctuation_tweets</th>\n",
                     "      <th>avg_tweet_levenshtein_similarity</th>\n",
                     "    </tr>\n",
                     "    <tr>\n",
                     "      <th>user_id</th>\n",
                     "      <th></th>\n",
                     "      <th></th>\n",
                     "      <th></th>\n",
                     "      <th></th>\n",
                     "      <th></th>\n",
                     "      <th></th>\n",
                     "      <th></th>\n",
                     "      <th></th>\n",
                     "      <th></th>\n",
                     "      <th></th>\n",
                     "      <th></th>\n",
                     "      <th></th>\n",
                     "      <th></th>\n",
                     "    </tr>\n",
                     "  </thead>\n",
                     "  <tbody>\n",
                     "    <tr>\n",
                     "      <th>39084553</th>\n",
                     "      <td>0.08</td>\n",
                     "      <td>0</td>\n",
                     "      <td>0.003611</td>\n",
                     "      <td>0.010133</td>\n",
                     "      <td>0.187854</td>\n",
                     "      <td>0.000835</td>\n",
                     "      <td>0.321867</td>\n",
                     "      <td>0.0</td>\n",
                     "      <td>0.003526</td>\n",
                     "      <td>0.190383</td>\n",
                     "      <td>0.0</td>\n",
                     "      <td>0.069565</td>\n",
                     "      <td>0.000000</td>\n",
                     "    </tr>\n",
                     "    <tr>\n",
                     "      <th>1564678657</th>\n",
                     "      <td>0.00</td>\n",
                     "      <td>0</td>\n",
                     "      <td>0.003194</td>\n",
                     "      <td>0.008968</td>\n",
                     "      <td>0.102295</td>\n",
                     "      <td>0.000587</td>\n",
                     "      <td>0.103194</td>\n",
                     "      <td>0.0</td>\n",
                     "      <td>0.005729</td>\n",
                     "      <td>0.000000</td>\n",
                     "      <td>0.0</td>\n",
                     "      <td>0.158397</td>\n",
                     "      <td>0.000000</td>\n",
                     "    </tr>\n",
                     "    <tr>\n",
                     "      <th>4872447178</th>\n",
                     "      <td>0.07</td>\n",
                     "      <td>0</td>\n",
                     "      <td>0.000580</td>\n",
                     "      <td>0.000084</td>\n",
                     "      <td>0.048922</td>\n",
                     "      <td>0.000718</td>\n",
                     "      <td>0.309582</td>\n",
                     "      <td>0.0</td>\n",
                     "      <td>0.002178</td>\n",
                     "      <td>0.157138</td>\n",
                     "      <td>0.0</td>\n",
                     "      <td>0.046377</td>\n",
                     "      <td>0.276906</td>\n",
                     "    </tr>\n",
                     "    <tr>\n",
                     "      <th>967244973824339968</th>\n",
                     "      <td>0.00</td>\n",
                     "      <td>0</td>\n",
                     "      <td>0.000475</td>\n",
                     "      <td>0.001242</td>\n",
                     "      <td>0.006415</td>\n",
                     "      <td>0.000771</td>\n",
                     "      <td>0.068796</td>\n",
                     "      <td>0.0</td>\n",
                     "      <td>0.013588</td>\n",
                     "      <td>0.037790</td>\n",
                     "      <td>0.0</td>\n",
                     "      <td>0.214367</td>\n",
                     "      <td>0.104260</td>\n",
                     "    </tr>\n",
                     "    <tr>\n",
                     "      <th>35628099</th>\n",
                     "      <td>0.08</td>\n",
                     "      <td>0</td>\n",
                     "      <td>0.000055</td>\n",
                     "      <td>0.000654</td>\n",
                     "      <td>0.188627</td>\n",
                     "      <td>0.003186</td>\n",
                     "      <td>0.321867</td>\n",
                     "      <td>0.0</td>\n",
                     "      <td>0.000053</td>\n",
                     "      <td>0.265963</td>\n",
                     "      <td>0.0</td>\n",
                     "      <td>0.069565</td>\n",
                     "      <td>0.000000</td>\n",
                     "    </tr>\n",
                     "  </tbody>\n",
                     "</table>\n",
                     "</div>"
                  ],
                  "text/plain": [
                     "                    hashtag_frequency  verified  statuses_count  \\\n",
                     "user_id                                                           \n",
                     "39084553                         0.08         0        0.003611   \n",
                     "1564678657                       0.00         0        0.003194   \n",
                     "4872447178                       0.07         0        0.000580   \n",
                     "967244973824339968               0.00         0        0.000475   \n",
                     "35628099                         0.08         0        0.000055   \n",
                     "\n",
                     "                    favourites_count  age_account  ratio_friends_followers  \\\n",
                     "user_id                                                                      \n",
                     "39084553                    0.010133     0.187854                 0.000835   \n",
                     "1564678657                  0.008968     0.102295                 0.000587   \n",
                     "4872447178                  0.000084     0.048922                 0.000718   \n",
                     "967244973824339968          0.001242     0.006415                 0.000771   \n",
                     "35628099                    0.000654     0.188627                 0.003186   \n",
                     "\n",
                     "                    avg_tweet_length  nb_sensitive_tweets        Ap  \\\n",
                     "user_id                                                               \n",
                     "39084553                    0.321867                  0.0  0.003526   \n",
                     "1564678657                  0.103194                  0.0  0.005729   \n",
                     "4872447178                  0.309582                  0.0  0.002178   \n",
                     "967244973824339968          0.068796                  0.0  0.013588   \n",
                     "35628099                    0.321867                  0.0  0.000053   \n",
                     "\n",
                     "                    visibility  ratio_sensitive_tweets  \\\n",
                     "user_id                                                  \n",
                     "39084553              0.190383                     0.0   \n",
                     "1564678657            0.000000                     0.0   \n",
                     "4872447178            0.157138                     0.0   \n",
                     "967244973824339968    0.037790                     0.0   \n",
                     "35628099              0.265963                     0.0   \n",
                     "\n",
                     "                    ratio_punctuation_tweets  avg_tweet_levenshtein_similarity  \n",
                     "user_id                                                                         \n",
                     "39084553                            0.069565                          0.000000  \n",
                     "1564678657                          0.158397                          0.000000  \n",
                     "4872447178                          0.046377                          0.276906  \n",
                     "967244973824339968                  0.214367                          0.104260  \n",
                     "35628099                            0.069565                          0.000000  "
                  ]
               },
               "execution_count": 4,
               "metadata": {},
               "output_type": "execute_result"
            }
         ],
         "source": [
            "users = list(user_collection.find({}))\n",
            "users = pd.DataFrame(users)\n",
            "users.index = users.user_id\n",
            "users = users.drop(columns=[\"_id\",\"user_id\",\"last_tweet_published_id\",\"tweet_ids\",\"friends_count\",\"followers_count\",\"tweet_frequency\"])\n",
            "users.head()"
         ]
      },
      {
         "attachments": {},
         "cell_type": "markdown",
         "id": "36d1b140",
         "metadata": {},
         "source": [
            "Function utilisée pour calculer le score de silhouette via des calculs en  parralèle afin de diminuer le temps de calcul."
         ]
      },
      {
         "cell_type": "code",
         "execution_count": 39,
         "id": "9cf865ab",
         "metadata": {},
         "outputs": [],
         "source": [
            "def multi_core_kmeans_with_silhouette(data, cores=6):\n",
            "    # Fit the KMeans model on the training data\n",
            "    model = KMeans(n_clusters=2, n_init=\"auto\")\n",
            "    model.fit(data)\n",
            "\n",
            "    # Define the number of subsets to create and the number of workers\n",
            "    num_subsets = cores\n",
            "    num_workers = cores  # Number of CPU cores\n",
            "\n",
            "    # Get the indices of the training data\n",
            "    train_indices = data.index\n",
            "\n",
            "    # Calculate the size of each subset\n",
            "    subset_size = len(train_indices) // num_subsets\n",
            "\n",
            "    # Split the indices into subsets\n",
            "    subsets = [train_indices[i * subset_size:(i + 1) * subset_size] for i in range(num_subsets)]\n",
            "\n",
            "    # Define the function to compute silhouette score on a subset of data\n",
            "    def compute_silhouette_score(data_subset):\n",
            "        return silhouette_score(data.loc[data_subset], model.labels_[data_subset])\n",
            "\n",
            "    # Initialize the parallelization framework\n",
            "    pool = Parallel(n_jobs=num_workers)\n",
            "\n",
            "    # Compute silhouette scores in parallel\n",
            "    results = pool(delayed(compute_silhouette_score)(subset) for subset in subsets)\n",
            "\n",
            "    # Aggregate the results\n",
            "    return model, sum(results) / len(results)"
         ]
      },
      {
         "attachments": {},
         "cell_type": "markdown",
         "id": "ff22788f",
         "metadata": {},
         "source": [
            "# Clustering avec KMeans"
         ]
      },
      {
         "cell_type": "code",
         "execution_count": 7,
         "id": "49828f72",
         "metadata": {},
         "outputs": [
            {
               "name": "stdout",
               "output_type": "stream",
               "text": [
                  "Inertie :80779.44, score : 0.44\n"
               ]
            }
         ],
         "source": [
            "model, score = multi_core_kmeans_with_silouhette(users)\n",
            "\n",
            "print(f\"Inertie :{model.inertia_:.2f}, score : {score:.2f}\")"
         ]
      },
      {
         "cell_type": "code",
         "execution_count": 8,
         "id": "17b20210",
         "metadata": {},
         "outputs": [
            {
               "data": {
                  "text/plain": [
                     "1    1264422\n",
                     "0     579017\n",
                     "Name: label, dtype: int64"
                  ]
               },
               "execution_count": 8,
               "metadata": {},
               "output_type": "execute_result"
            }
         ],
         "source": [
            "users[\"label\"] = model.labels_\n",
            "users[\"label\"].value_counts()"
         ]
      },
      {
         "cell_type": "code",
         "execution_count": 9,
         "id": "b32c221d",
         "metadata": {},
         "outputs": [
            {
               "data": {
                  "text/html": [
                     "<div>\n",
                     "<style scoped>\n",
                     "    .dataframe tbody tr th:only-of-type {\n",
                     "        vertical-align: middle;\n",
                     "    }\n",
                     "\n",
                     "    .dataframe tbody tr th {\n",
                     "        vertical-align: top;\n",
                     "    }\n",
                     "\n",
                     "    .dataframe thead th {\n",
                     "        text-align: right;\n",
                     "    }\n",
                     "</style>\n",
                     "<table border=\"1\" class=\"dataframe\">\n",
                     "  <thead>\n",
                     "    <tr style=\"text-align: right;\">\n",
                     "      <th></th>\n",
                     "      <th>hashtag_frequency</th>\n",
                     "      <th>verified</th>\n",
                     "      <th>statuses_count</th>\n",
                     "      <th>favourites_count</th>\n",
                     "      <th>age_account</th>\n",
                     "      <th>ratio_friends_followers</th>\n",
                     "      <th>avg_tweet_length</th>\n",
                     "      <th>nb_sensitive_tweets</th>\n",
                     "      <th>Ap</th>\n",
                     "      <th>visibility</th>\n",
                     "      <th>ratio_sensitive_tweets</th>\n",
                     "      <th>ratio_punctuation_tweets</th>\n",
                     "      <th>avg_tweet_levenshtein_similarity</th>\n",
                     "      <th>label</th>\n",
                     "    </tr>\n",
                     "  </thead>\n",
                     "  <tbody>\n",
                     "    <tr>\n",
                     "      <th>0</th>\n",
                     "      <td>0.064915</td>\n",
                     "      <td>0.013874</td>\n",
                     "      <td>0.002735</td>\n",
                     "      <td>0.006223</td>\n",
                     "      <td>0.099555</td>\n",
                     "      <td>0.001181</td>\n",
                     "      <td>0.250444</td>\n",
                     "      <td>0.000290</td>\n",
                     "      <td>0.005998</td>\n",
                     "      <td>0.161775</td>\n",
                     "      <td>0.009884</td>\n",
                     "      <td>0.076626</td>\n",
                     "      <td>0.328918</td>\n",
                     "      <td>0.0</td>\n",
                     "    </tr>\n",
                     "    <tr>\n",
                     "      <th>1</th>\n",
                     "      <td>0.057054</td>\n",
                     "      <td>0.007947</td>\n",
                     "      <td>0.001641</td>\n",
                     "      <td>0.004575</td>\n",
                     "      <td>0.097376</td>\n",
                     "      <td>0.001288</td>\n",
                     "      <td>0.239764</td>\n",
                     "      <td>0.000051</td>\n",
                     "      <td>0.003560</td>\n",
                     "      <td>0.150426</td>\n",
                     "      <td>0.009093</td>\n",
                     "      <td>0.078604</td>\n",
                     "      <td>0.004302</td>\n",
                     "      <td>1.0</td>\n",
                     "    </tr>\n",
                     "  </tbody>\n",
                     "</table>\n",
                     "</div>"
                  ],
                  "text/plain": [
                     "   hashtag_frequency  verified  statuses_count  favourites_count  age_account  \\\n",
                     "0           0.064915  0.013874        0.002735          0.006223     0.099555   \n",
                     "1           0.057054  0.007947        0.001641          0.004575     0.097376   \n",
                     "\n",
                     "   ratio_friends_followers  avg_tweet_length  nb_sensitive_tweets        Ap  \\\n",
                     "0                 0.001181          0.250444             0.000290  0.005998   \n",
                     "1                 0.001288          0.239764             0.000051  0.003560   \n",
                     "\n",
                     "   visibility  ratio_sensitive_tweets  ratio_punctuation_tweets  \\\n",
                     "0    0.161775                0.009884                  0.076626   \n",
                     "1    0.150426                0.009093                  0.078604   \n",
                     "\n",
                     "   avg_tweet_levenshtein_similarity  label  \n",
                     "0                          0.328918    0.0  \n",
                     "1                          0.004302    1.0  "
                  ]
               },
               "execution_count": 9,
               "metadata": {},
               "output_type": "execute_result"
            }
         ],
         "source": [
            "users.groupby(model.labels_).mean()"
         ]
      },
      {
         "attachments": {},
         "cell_type": "markdown",
         "id": "bb2df91d",
         "metadata": {},
         "source": [
            "# Test des attributs"
         ]
      },
      {
         "attachments": {},
         "cell_type": "markdown",
         "id": "40974f0f",
         "metadata": {},
         "source": [
            "Generer toutes les combinations disponibles depuis nos attributs"
         ]
      },
      {
         "cell_type": "code",
         "execution_count": 42,
         "id": "8c9b122b",
         "metadata": {},
         "outputs": [
            {
               "name": "stdout",
               "output_type": "stream",
               "text": [
                  "12911 combinaisons générées\n"
               ]
            }
         ],
         "source": [
            "import itertools\n",
            "\n",
            "def generate_combinations(arr):\n",
            "    combinations = []\n",
            "    for r in range(6, len(arr) + 1):\n",
            "        combinations.extend([list(c) for c in itertools.combinations(arr, r)])\n",
            "\n",
            "    return combinations\n",
            "\n",
            "attributs_combinations = generate_combinations(users.columns)\n",
            "print(len(attributs_combinations), \"combinaisons générées\")\n"
         ]
      },
      {
         "cell_type": "code",
         "execution_count": 41,
         "id": "eb55ec33",
         "metadata": {},
         "outputs": [
            {
               "name": "stdout",
               "output_type": "stream",
               "text": [
                  "100  of  15914  combination done\n",
                  "200  of  15914  combination done\n",
                  "300  of  15914  combination done\n",
                  "400  of  15914  combination done\n",
                  "500  of  15914  combination done\n",
                  "600  of  15914  combination done\n",
                  "700  of  15914  combination done\n",
                  "800  of  15914  combination done\n",
                  "900  of  15914  combination done\n",
                  "1000  of  15914  combination done\n",
                  "1100  of  15914  combination done\n",
                  "1200  of  15914  combination done\n",
                  "1300  of  15914  combination done\n",
                  "1400  of  15914  combination done\n",
                  "1500  of  15914  combination done\n",
                  "1600  of  15914  combination done\n",
                  "1700  of  15914  combination done\n",
                  "1800  of  15914  combination done\n",
                  "1900  of  15914  combination done\n",
                  "2000  of  15914  combination done\n",
                  "2100  of  15914  combination done\n",
                  "2200  of  15914  combination done\n",
                  "2300  of  15914  combination done\n",
                  "2400  of  15914  combination done\n",
                  "2500  of  15914  combination done\n",
                  "2600  of  15914  combination done\n",
                  "2700  of  15914  combination done\n",
                  "2800  of  15914  combination done\n",
                  "2900  of  15914  combination done\n",
                  "3000  of  15914  combination done\n",
                  "3100  of  15914  combination done\n",
                  "3200  of  15914  combination done\n",
                  "3300  of  15914  combination done\n",
                  "3400  of  15914  combination done\n",
                  "3500  of  15914  combination done\n",
                  "3600  of  15914  combination done\n",
                  "3700  of  15914  combination done\n",
                  "3800  of  15914  combination done\n",
                  "3900  of  15914  combination done\n",
                  "4000  of  15914  combination done\n",
                  "4100  of  15914  combination done\n",
                  "4200  of  15914  combination done\n",
                  "4300  of  15914  combination done\n",
                  "4400  of  15914  combination done\n",
                  "4500  of  15914  combination done\n",
                  "4600  of  15914  combination done\n",
                  "4700  of  15914  combination done\n",
                  "4800  of  15914  combination done\n",
                  "4900  of  15914  combination done\n",
                  "5000  of  15914  combination done\n",
                  "5100  of  15914  combination done\n",
                  "5200  of  15914  combination done\n",
                  "5300  of  15914  combination done\n",
                  "5400  of  15914  combination done\n",
                  "5500  of  15914  combination done\n",
                  "5600  of  15914  combination done\n",
                  "5700  of  15914  combination done\n",
                  "5800  of  15914  combination done\n",
                  "5900  of  15914  combination done\n",
                  "6000  of  15914  combination done\n",
                  "6100  of  15914  combination done\n",
                  "6200  of  15914  combination done\n",
                  "6300  of  15914  combination done\n"
               ]
            },
            {
               "ename": "KeyboardInterrupt",
               "evalue": "",
               "output_type": "error",
               "traceback": [
                  "\u001b[1;31m---------------------------------------------------------------------------\u001b[0m",
                  "\u001b[1;31mKeyboardInterrupt\u001b[0m                         Traceback (most recent call last)",
                  "File \u001b[1;32m<timed exec>:8\u001b[0m\n",
                  "Cell \u001b[1;32mIn[5], line 27\u001b[0m, in \u001b[0;36mmulti_core_kmeans_with_silouhette\u001b[1;34m(data, cores)\u001b[0m\n\u001b[0;32m     24\u001b[0m pool \u001b[39m=\u001b[39m Parallel(n_jobs\u001b[39m=\u001b[39mnum_workers)\n\u001b[0;32m     26\u001b[0m \u001b[39m# Compute silhouette scores in parallel\u001b[39;00m\n\u001b[1;32m---> 27\u001b[0m results \u001b[39m=\u001b[39m pool(delayed(compute_silhouette_score)(subset) \u001b[39mfor\u001b[39;49;00m subset \u001b[39min\u001b[39;49;00m subsets)\n\u001b[0;32m     29\u001b[0m \u001b[39m# Aggregate the results\u001b[39;00m\n\u001b[0;32m     30\u001b[0m \u001b[39mreturn\u001b[39;00m (model,\u001b[39msum\u001b[39m(results) \u001b[39m/\u001b[39m \u001b[39mlen\u001b[39m(results))\n",
                  "File \u001b[1;32mc:\\Users\\flori\\AppData\\Local\\Programs\\Python\\Python310\\lib\\site-packages\\joblib\\parallel.py:1098\u001b[0m, in \u001b[0;36mParallel.__call__\u001b[1;34m(self, iterable)\u001b[0m\n\u001b[0;32m   1095\u001b[0m     \u001b[39mself\u001b[39m\u001b[39m.\u001b[39m_iterating \u001b[39m=\u001b[39m \u001b[39mFalse\u001b[39;00m\n\u001b[0;32m   1097\u001b[0m \u001b[39mwith\u001b[39;00m \u001b[39mself\u001b[39m\u001b[39m.\u001b[39m_backend\u001b[39m.\u001b[39mretrieval_context():\n\u001b[1;32m-> 1098\u001b[0m     \u001b[39mself\u001b[39;49m\u001b[39m.\u001b[39;49mretrieve()\n\u001b[0;32m   1099\u001b[0m \u001b[39m# Make sure that we get a last message telling us we are done\u001b[39;00m\n\u001b[0;32m   1100\u001b[0m elapsed_time \u001b[39m=\u001b[39m time\u001b[39m.\u001b[39mtime() \u001b[39m-\u001b[39m \u001b[39mself\u001b[39m\u001b[39m.\u001b[39m_start_time\n",
                  "File \u001b[1;32mc:\\Users\\flori\\AppData\\Local\\Programs\\Python\\Python310\\lib\\site-packages\\joblib\\parallel.py:975\u001b[0m, in \u001b[0;36mParallel.retrieve\u001b[1;34m(self)\u001b[0m\n\u001b[0;32m    973\u001b[0m \u001b[39mtry\u001b[39;00m:\n\u001b[0;32m    974\u001b[0m     \u001b[39mif\u001b[39;00m \u001b[39mgetattr\u001b[39m(\u001b[39mself\u001b[39m\u001b[39m.\u001b[39m_backend, \u001b[39m'\u001b[39m\u001b[39msupports_timeout\u001b[39m\u001b[39m'\u001b[39m, \u001b[39mFalse\u001b[39;00m):\n\u001b[1;32m--> 975\u001b[0m         \u001b[39mself\u001b[39m\u001b[39m.\u001b[39m_output\u001b[39m.\u001b[39mextend(job\u001b[39m.\u001b[39;49mget(timeout\u001b[39m=\u001b[39;49m\u001b[39mself\u001b[39;49m\u001b[39m.\u001b[39;49mtimeout))\n\u001b[0;32m    976\u001b[0m     \u001b[39melse\u001b[39;00m:\n\u001b[0;32m    977\u001b[0m         \u001b[39mself\u001b[39m\u001b[39m.\u001b[39m_output\u001b[39m.\u001b[39mextend(job\u001b[39m.\u001b[39mget())\n",
                  "File \u001b[1;32mc:\\Users\\flori\\AppData\\Local\\Programs\\Python\\Python310\\lib\\site-packages\\joblib\\_parallel_backends.py:567\u001b[0m, in \u001b[0;36mLokyBackend.wrap_future_result\u001b[1;34m(future, timeout)\u001b[0m\n\u001b[0;32m    564\u001b[0m \u001b[39m\u001b[39m\u001b[39m\"\"\"Wrapper for Future.result to implement the same behaviour as\u001b[39;00m\n\u001b[0;32m    565\u001b[0m \u001b[39mAsyncResults.get from multiprocessing.\"\"\"\u001b[39;00m\n\u001b[0;32m    566\u001b[0m \u001b[39mtry\u001b[39;00m:\n\u001b[1;32m--> 567\u001b[0m     \u001b[39mreturn\u001b[39;00m future\u001b[39m.\u001b[39;49mresult(timeout\u001b[39m=\u001b[39;49mtimeout)\n\u001b[0;32m    568\u001b[0m \u001b[39mexcept\u001b[39;00m CfTimeoutError \u001b[39mas\u001b[39;00m e:\n\u001b[0;32m    569\u001b[0m     \u001b[39mraise\u001b[39;00m \u001b[39mTimeoutError\u001b[39;00m \u001b[39mfrom\u001b[39;00m \u001b[39me\u001b[39;00m\n",
                  "File \u001b[1;32mc:\\Users\\flori\\AppData\\Local\\Programs\\Python\\Python310\\lib\\concurrent\\futures\\_base.py:440\u001b[0m, in \u001b[0;36mFuture.result\u001b[1;34m(self, timeout)\u001b[0m\n\u001b[0;32m    437\u001b[0m \u001b[39melif\u001b[39;00m \u001b[39mself\u001b[39m\u001b[39m.\u001b[39m_state \u001b[39m==\u001b[39m FINISHED:\n\u001b[0;32m    438\u001b[0m     \u001b[39mreturn\u001b[39;00m \u001b[39mself\u001b[39m\u001b[39m.\u001b[39m__get_result()\n\u001b[1;32m--> 440\u001b[0m \u001b[39mself\u001b[39;49m\u001b[39m.\u001b[39;49m_condition\u001b[39m.\u001b[39;49mwait(timeout)\n\u001b[0;32m    442\u001b[0m \u001b[39mif\u001b[39;00m \u001b[39mself\u001b[39m\u001b[39m.\u001b[39m_state \u001b[39min\u001b[39;00m [CANCELLED, CANCELLED_AND_NOTIFIED]:\n\u001b[0;32m    443\u001b[0m     \u001b[39mraise\u001b[39;00m CancelledError()\n",
                  "File \u001b[1;32mc:\\Users\\flori\\AppData\\Local\\Programs\\Python\\Python310\\lib\\threading.py:320\u001b[0m, in \u001b[0;36mCondition.wait\u001b[1;34m(self, timeout)\u001b[0m\n\u001b[0;32m    318\u001b[0m \u001b[39mtry\u001b[39;00m:    \u001b[39m# restore state no matter what (e.g., KeyboardInterrupt)\u001b[39;00m\n\u001b[0;32m    319\u001b[0m     \u001b[39mif\u001b[39;00m timeout \u001b[39mis\u001b[39;00m \u001b[39mNone\u001b[39;00m:\n\u001b[1;32m--> 320\u001b[0m         waiter\u001b[39m.\u001b[39;49macquire()\n\u001b[0;32m    321\u001b[0m         gotit \u001b[39m=\u001b[39m \u001b[39mTrue\u001b[39;00m\n\u001b[0;32m    322\u001b[0m     \u001b[39melse\u001b[39;00m:\n",
                  "\u001b[1;31mKeyboardInterrupt\u001b[0m: "
               ]
            }
         ],
         "source": [
            "%%time\n",
            "users_train,_ = train_test_split(users,random_state=10,test_size=0.98)\n",
            "\n",
            "results = {}\n",
            "i = 1\n",
            "\n",
            "for attributs in attributs_combinations:\n",
            "    users_reduced = users_train[attributs]\n",
            "    model,silhouette= multi_core_kmeans_with_silouhette(users_reduced)\n",
            "    if silhouette > 0.8:\n",
            "        results[\"-\".join(attributs)] = {\"inertie\" : model.inertia_ , \"silhouette_score\" : silhouette}\n",
            "    if i %100 == 0:\n",
            "        print(i,\" of \",len(attributs_combinations),\" combination done\")\n",
            "    i+=1\n",
            "\n",
            "print(results)\n"
         ]
      },
      {
         "cell_type": "code",
         "execution_count": null,
         "id": "4950969d",
         "metadata": {},
         "outputs": [],
         "source": [
            "sorted_keys = sorted(results, key=lambda k: results[k]['silhouette_score'], reverse=True)\n",
            "\n",
            "real_scores = {}\n",
            "for idx,key in enumerate(sorted_keys):\n",
            "    if idx > 10:\n",
            "        break\n",
            "    model,silhouette = multi_core_kmeans_with_silouhette(users[key.split(\"-\")])\n",
            "    real_scores[key] = {\"model\":model, \"silhouette\":silhouette}\n"
         ]
      },
      {
         "cell_type": "code",
         "execution_count": 35,
         "id": "d97b48d6",
         "metadata": {},
         "outputs": [
            {
               "name": "stdout",
               "output_type": "stream",
               "text": [
                  "{'hashtag_frequency-verified-statuses_count-favourites_count-age_account-ratio_friends_followers-nb_sensitive_tweets-Ap-ratio_sensitive_tweets-ratio_punctuation_tweets-avg_tweet_levenshtein_similarity-label': {'model': KMeans(n_clusters=2, n_init='auto'), 'silhouette': 0.825527420931964}, 'hashtag_frequency-verified-statuses_count-favourites_count-ratio_friends_followers-avg_tweet_length-nb_sensitive_tweets-Ap-ratio_sensitive_tweets-ratio_punctuation_tweets-avg_tweet_levenshtein_similarity-label': {'model': KMeans(n_clusters=2, n_init='auto'), 'silhouette': 0.8222543222150568}, 'verified-statuses_count-favourites_count-age_account-ratio_friends_followers-avg_tweet_length-nb_sensitive_tweets-Ap-ratio_sensitive_tweets-ratio_punctuation_tweets-avg_tweet_levenshtein_similarity-label': {'model': KMeans(n_clusters=2, n_init='auto'), 'silhouette': 0.8203785368272959}, 'hashtag_frequency-statuses_count-favourites_count-age_account-ratio_friends_followers-avg_tweet_length-nb_sensitive_tweets-Ap-ratio_sensitive_tweets-ratio_punctuation_tweets-avg_tweet_levenshtein_similarity-label': {'model': KMeans(n_clusters=2, n_init='auto'), 'silhouette': 0.8412552814193578}, 'hashtag_frequency-verified-statuses_count-favourites_count-age_account-ratio_friends_followers-avg_tweet_length-nb_sensitive_tweets-Ap-ratio_punctuation_tweets-avg_tweet_levenshtein_similarity-label': {'model': KMeans(n_clusters=2, n_init='auto'), 'silhouette': 0.8026369560068928}, 'hashtag_frequency-verified-statuses_count-favourites_count-ratio_friends_followers-nb_sensitive_tweets-Ap-visibility-ratio_sensitive_tweets-ratio_punctuation_tweets-avg_tweet_levenshtein_similarity-label': {'model': KMeans(n_clusters=2, n_init='auto'), 'silhouette': 0.8067588068844279}, 'hashtag_frequency-verified-statuses_count-favourites_count-age_account-ratio_friends_followers-avg_tweet_length-nb_sensitive_tweets-Ap-ratio_sensitive_tweets-avg_tweet_levenshtein_similarity-label': {'model': KMeans(n_clusters=2, n_init='auto'), 'silhouette': 0.8105756279504869}, 'hashtag_frequency-statuses_count-favourites_count-age_account-ratio_friends_followers-nb_sensitive_tweets-Ap-visibility-ratio_sensitive_tweets-ratio_punctuation_tweets-avg_tweet_levenshtein_similarity-label': {'model': KMeans(n_clusters=2, n_init='auto'), 'silhouette': 0.826364594792973}, 'verified-statuses_count-favourites_count-age_account-ratio_friends_followers-nb_sensitive_tweets-Ap-visibility-ratio_sensitive_tweets-ratio_punctuation_tweets-avg_tweet_levenshtein_similarity-label': {'model': KMeans(n_clusters=2, n_init='auto'), 'silhouette': 0.7992584701259506}, 'hashtag_frequency-verified-statuses_count-favourites_count-age_account-ratio_friends_followers-nb_sensitive_tweets-Ap-visibility-ratio_punctuation_tweets-avg_tweet_levenshtein_similarity-label': {'model': KMeans(n_clusters=2, n_init='auto'), 'silhouette': 0.7881104517623386}, 'hashtag_frequency-verified-statuses_count-favourites_count-age_account-ratio_friends_followers-nb_sensitive_tweets-Ap-visibility-ratio_sensitive_tweets-avg_tweet_levenshtein_similarity-label': {'model': KMeans(n_clusters=2, n_init='auto'), 'silhouette': 0.7964643006582942}}\n"
               ]
            }
         ],
         "source": [
            "print(real_scores)"
         ]
      },
      {
         "cell_type": "code",
         "execution_count": null,
         "id": "d0ec3376",
         "metadata": {},
         "outputs": [],
         "source": [
            "original_keys = {}\n",
            "\n",
            "for key in sorted_keys:\n",
            "    components = key.split('-')\n",
            "    for component in components:\n",
            "        if component in original_keys.keys():\n",
            "            original_keys[component] +=1\n",
            "        else:\n",
            "            original_keys[component] = 1\n",
            "\n",
            "\n",
            "original_keys = sorted(original_keys.items(), key=lambda x: x[1],reverse=True)\n",
            "\n",
            "print(\"Sorted dictionary by values:\")\n",
            "for key, value in original_keys:\n",
            "    print(f\"{key}: {value}\")"
         ]
      },
      {
         "cell_type": "code",
         "execution_count": 10,
         "id": "be803e88",
         "metadata": {},
         "outputs": [
            {
               "name": "stdout",
               "output_type": "stream",
               "text": [
                  "Inertie :19144.81, score : 0.93\n"
               ]
            }
         ],
         "source": [
            "users_reduced = users[[\"verified\",\"statuses_count\",\"favourites_count\",\"ratio_friends_followers\",\"nb_sensitive_tweets\",\"Ap\",\"ratio_sensitive_tweets\",\"ratio_punctuation_tweets\"]]\n",
            "\n",
            "model, score = multi_core_kmeans_with_silouhette(users_reduced)\n",
            "\n",
            "print(f\"Inertie :{model.inertia_:.2f}, score : {score:.2f}\")"
         ]
      },
      {
         "attachments": {},
         "cell_type": "markdown",
         "id": "6f1bbb11",
         "metadata": {},
         "source": [
            "# Exemple pour le moment, à modifier avec le cours ACP\n",
            "\n",
            "# Mise en place de l'ACP pour representer les resultats du clustering"
         ]
      },
      {
         "cell_type": "code",
         "execution_count": null,
         "id": "b8e54cab",
         "metadata": {},
         "outputs": [],
         "source": [
            "acp = PCA(n_components=2)"
         ]
      },
      {
         "cell_type": "code",
         "execution_count": null,
         "id": "0042b6b4",
         "metadata": {},
         "outputs": [],
         "source": [
            "result =acp.fit_transform(X_CR)"
         ]
      },
      {
         "cell_type": "code",
         "execution_count": null,
         "id": "7aa8bf8e",
         "metadata": {},
         "outputs": [],
         "source": [
            "resultat = pd.DataFrame(result, columns = [\"CP1\",\"CP2\"])\n",
            "resultat.head()"
         ]
      },
      {
         "attachments": {},
         "cell_type": "markdown",
         "id": "e150cad0",
         "metadata": {},
         "source": [
            "# Presentation des clusters"
         ]
      },
      {
         "cell_type": "code",
         "execution_count": null,
         "id": "55fe956e",
         "metadata": {},
         "outputs": [],
         "source": [
            "# Create scatter plot of `PC2` vs `PC1`\n",
            "fig = px.scatter(\n",
            "    data_frame = resultat,\n",
            "    x= \"CP1\",\n",
            "    y = \"CP2\",\n",
            "    color = labels,\n",
            "    title = \"PCA Representation of Clusters\"\n",
            ")\n",
            "fig.update_layout(xaxis_title = \"Cluster\", yaxis_title =\"Value\" )\n",
            "fig.show()"
         ]
      }
   ],
   "metadata": {
      "kernelspec": {
         "display_name": "Python 3 (ipykernel)",
         "language": "python",
         "name": "python3"
      },
      "language_info": {
         "codemirror_mode": {
            "name": "ipython",
            "version": 3
         },
         "file_extension": ".py",
         "mimetype": "text/x-python",
         "name": "python",
         "nbconvert_exporter": "python",
         "pygments_lexer": "ipython3",
         "version": "3.10.0"
      }
   },
   "nbformat": 4,
   "nbformat_minor": 5
}
