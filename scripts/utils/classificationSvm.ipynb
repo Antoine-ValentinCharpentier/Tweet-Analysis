{
 "cells": [
  {
   "attachments": {},
   "cell_type": "markdown",
   "metadata": {},
   "source": [
    "# Classification des données en utilisant le SVM"
   ]
  },
  {
   "attachments": {},
   "cell_type": "markdown",
   "metadata": {},
   "source": [
    "## Importation des données"
   ]
  },
  {
   "cell_type": "code",
   "execution_count": 1,
   "metadata": {},
   "outputs": [],
   "source": [
    "import pymongo\n",
    "import sklearn as sk\n",
    "from sklearn.svm import SVC\n",
    "from sklearn import metrics\n",
    "from sklearn.model_selection import train_test_split\n",
    "import pandas as pd"
   ]
  },
  {
   "cell_type": "code",
   "execution_count": null,
   "metadata": {},
   "outputs": [],
   "source": [
    "client = pymongo.MongoClient(\"mongodb://localhost:27017\")\n",
    "db = client[\"Tweet\"]\n",
    "user_collection = db[\"users_labeled\"]"
   ]
  },
  {
   "cell_type": "code",
   "execution_count": null,
   "metadata": {},
   "outputs": [],
   "source": [
    "users = list(user_collection.find({}))\n",
    "users = pd.DataFrame(users)\n",
    "users.index = users.user_id\n",
    "\n",
    "#Normalement ce bloc va être supprimé une fois que le traitement aura été fait ailleurs\n",
    "users = users.drop(columns=[\"_id\",\"user_id\",\"last_tweet_published_id\",\"tweet_ids\",\"friends_count\",\"followers_count\", \"suspicious_fields\", \"suspicious_score\"])\n",
    "print(users.columns)"
   ]
  },
  {
   "attachments": {},
   "cell_type": "markdown",
   "metadata": {},
   "source": [
    "## Séparation des données labélisées en Apprentisage , Test et Validation"
   ]
  },
  {
   "cell_type": "code",
   "execution_count": null,
   "metadata": {},
   "outputs": [],
   "source": [
    "Y=users.label\n",
    "X=users.drop(columns=[\"label\"])\n",
    "\n",
    "X_tmp, X_test, Y_tmp, Y_test = train_test_split(X, Y, test_size=0.3)\n",
    "X_app, X_val, Y_app, Y_val = train_test_split(X_tmp, Y_tmp, test_size=0.5)\n",
    "\n",
    "\n",
    "print(X_app.shape)\n",
    "print(X_val)\n",
    "print(X_test.shape)"
   ]
  },
  {
   "attachments": {},
   "cell_type": "markdown",
   "metadata": {},
   "source": [
    "## Classification avec SVM"
   ]
  },
  {
   "attachments": {},
   "cell_type": "markdown",
   "metadata": {},
   "source": [
    "### Choix du meilleur Kernel et de la meilleure valeur de C"
   ]
  },
  {
   "cell_type": "code",
   "execution_count": null,
   "metadata": {},
   "outputs": [],
   "source": [
    "kernels=[\"linear\",\"poly\", \"rbf\",\"sigmoid\"]\n",
    "C_values=[0.01 ,0.1 ,1 ,10 ,100]\n",
    "val=[]\n",
    "\n",
    "for k in kernels:\n",
    "    for c in C_values:\n",
    "        svm=SVC(C=c,kernel =k)\n",
    "        svm.fit(X_app, Y_app)\n",
    "        Y_pred=svm.predict(X_val)\n",
    "\n",
    "        erreur=1-metrics.accuracy_score(Y_val,Y_pred)\n",
    "\n",
    "        print('Pour kernel=',k,' C=',c,', erreur=  ',erreur)\n",
    "        val.append({\"kernel\" :k,\"C\":c,\"erreur\":erreur})\n",
    "\n",
    "\n",
    "val.sort(key=lambda x: x['erreur'])\n",
    "\n",
    "print(val[0])\n",
    "kernel_opti=val[0]['kernel']\n",
    "C_opti=val[0]['C']\n"
   ]
  },
  {
   "attachments": {},
   "cell_type": "markdown",
   "metadata": {},
   "source": [
    "### Nouvelle itération avec les paramètres optimaux"
   ]
  },
  {
   "cell_type": "code",
   "execution_count": null,
   "metadata": {},
   "outputs": [],
   "source": [
    "svm=SVC(C=C_opti,kernel =kernel_opti)\n",
    "print(svm)\n",
    "svm.fit(X_app, Y_app)\n",
    "y_pred=svm.predict(X_test)\n",
    "#print(y_val)\n",
    "#print(y_pred)\n",
    "\n",
    "erreur=1-metrics.accuracy_score(Y_test,y_pred)\n",
    "\n",
    "print(erreur)\n",
    "\n",
    "mat=metrics.confusion_matrix(Y_test,y_pred)\n",
    "print(mat)"
   ]
  },
  {
   "attachments": {},
   "cell_type": "markdown",
   "metadata": {},
   "source": [
    "### Recherche des meilleurs attributs au vu de leur impact sur l'erreur"
   ]
  },
  {
   "cell_type": "code",
   "execution_count": null,
   "metadata": {},
   "outputs": [],
   "source": [
    "attributs=users.columns\n",
    "impact=[]\n",
    "err_fix=1\n",
    "verif=True\n",
    "users_best=users\n",
    "\n",
    "while (verif):\n",
    "    for att in attributs :\n",
    "        users_red=users_best.drop(columns=[att])\n",
    "        Y=users_red.label\n",
    "        X=users_red.drop(columns=[\"label\"])\n",
    "\n",
    "        X_tmp, X_test, Y_tmp, Y_test = train_test_split(X, Y, test_size=0.3)\n",
    "        X_app, X_val, Y_app, Y_val = train_test_split(X_tmp, Y_tmp, test_size=0.5)\n",
    "        svm=SVC(C=C_opti,kernel =kernel_opti)\n",
    "        print(svm)\n",
    "        svm.fit(X_app, Y_app)\n",
    "        y_pred=svm.predict(X_test)\n",
    "        #print(y_val)\n",
    "        #print(y_pred)\n",
    "\n",
    "        erreur=1-metrics.accuracy_score(Y_test,y_pred)\n",
    "\n",
    "        print(erreur)\n",
    "        impact.append({\"attribut\" :att,\"erreur\":erreur})\n",
    "\n",
    "        mat=metrics.confusion_matrix(Y_test,y_pred)\n",
    "        print(mat)\n",
    "    #On retire l'attribut qui contribue le plus à  l'erreur \n",
    "    impact.sort(key=lambda x: x['erreur'])\n",
    "    print(impact[0])\n",
    "    attribut_neg=val[0]['attribut']\n",
    "    err_cal=val[0]['erreur']\n",
    "    users_best=users.drop(columns=[attribut_neg])\n",
    "\n",
    "    attributs.remove(attribut_neg)\n",
    "    if(err_cal>err_fix):\n",
    "        verif=False\n",
    "    else:\n",
    "        err_fix=err_cal\n",
    "    if(len(attributs)==2):\n",
    "        verif=False\n"
   ]
  },
  {
   "attachments": {},
   "cell_type": "markdown",
   "metadata": {},
   "source": [
    "### ACP "
   ]
  },
  {
   "cell_type": "code",
   "execution_count": null,
   "metadata": {},
   "outputs": [],
   "source": []
  },
  {
   "attachments": {},
   "cell_type": "markdown",
   "metadata": {},
   "source": [
    "## Représentation graphique"
   ]
  },
  {
   "cell_type": "code",
   "execution_count": null,
   "metadata": {},
   "outputs": [],
   "source": []
  }
 ],
 "metadata": {
  "kernelspec": {
   "display_name": "Python 3 (ipykernel)",
   "language": "python",
   "name": "python3"
  },
  "language_info": {
   "codemirror_mode": {
    "name": "ipython",
    "version": 3
   },
   "file_extension": ".py",
   "mimetype": "text/x-python",
   "name": "python",
   "nbconvert_exporter": "python",
   "pygments_lexer": "ipython3",
   "version": "3.9.13"
  }
 },
 "nbformat": 4,
 "nbformat_minor": 2
}
