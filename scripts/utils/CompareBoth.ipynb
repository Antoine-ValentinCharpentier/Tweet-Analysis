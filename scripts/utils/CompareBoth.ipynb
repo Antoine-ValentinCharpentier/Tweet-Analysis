{
 "cells": [
  {
   "cell_type": "markdown",
   "id": "cea996dd",
   "metadata": {},
   "source": [
    "# CompareBoth"
   ]
  },
  {
   "cell_type": "code",
   "execution_count": null,
   "id": "ac168121",
   "metadata": {},
   "outputs": [],
   "source": [
    "import pymongo"
   ]
  },
  {
   "cell_type": "code",
   "execution_count": null,
   "id": "08251032",
   "metadata": {},
   "outputs": [],
   "source": [
    "client = pymongo.MongoClient(\"mongodb://localhost:27017\")\n",
    "db = client[\"Tweet\"]\n",
    "\n",
    "user_collection = db[\"users\"]\n",
    "user_labeled_svm_collection = db[\"users_labeled\"]\n",
    "user_predicted_svm_collection = db[\"users_predicted\"]\n",
    "user_predicted_kmeans_collection = db[\"users_kmeans_labeled\"]\n",
    "\n",
    "user_compare_both_collection = db[\"users_compare_both\"]"
   ]
  },
  {
   "cell_type": "code",
   "execution_count": null,
   "id": "d49fa74d",
   "metadata": {},
   "outputs": [],
   "source": [
    "user_compare_both_collection.drop()"
   ]
  },
  {
   "cell_type": "markdown",
   "id": "72328762",
   "metadata": {},
   "source": [
    "## Fusion des résultats du Kmeans avec SVM dans users_compare_both"
   ]
  },
  {
   "cell_type": "markdown",
   "id": "7d5162b5",
   "metadata": {},
   "source": [
    "### Faire une copie des attributs de users dans users_compare_both"
   ]
  },
  {
   "cell_type": "code",
   "execution_count": null,
   "id": "91aeb99b",
   "metadata": {},
   "outputs": [],
   "source": [
    "users = user_collection.find({})\n",
    "user_compare_both_collection.insert_many(users)"
   ]
  },
  {
   "cell_type": "markdown",
   "id": "7687fe3c",
   "metadata": {},
   "source": [
    "### Merge les données labélisées du SVM dans users_compare_both"
   ]
  },
  {
   "cell_type": "code",
   "execution_count": null,
   "id": "123e9b24",
   "metadata": {},
   "outputs": [],
   "source": [
    "pipeline = [\n",
    "    {\n",
    "        '$project': {\n",
    "            '_id': 1,\n",
    "            'user_id': 1,\n",
    "            'label_svm': '$label'\n",
    "        }\n",
    "    },\n",
    "    {\n",
    "        '$merge': {\n",
    "            'into': 'users_compare_both',\n",
    "            'on': '_id',\n",
    "            'whenMatched': 'merge',\n",
    "            'whenNotMatched': 'discard'\n",
    "        }\n",
    "    }\n",
    "]\n",
    "\n",
    "for collection in [user_labeled_svm_collection, user_predicted_svm_collection]:\n",
    "    collection.aggregate(pipeline)"
   ]
  },
  {
   "cell_type": "markdown",
   "id": "3acc6f83",
   "metadata": {},
   "source": [
    "### Merge les données labélisées du Kmeans dans users_compare_both"
   ]
  },
  {
   "cell_type": "code",
   "execution_count": null,
   "id": "9a5b9b27",
   "metadata": {},
   "outputs": [],
   "source": [
    "pipeline = [\n",
    "    {\n",
    "        '$project': {\n",
    "            '_id': 1,\n",
    "            'user_id': 1,\n",
    "            'label_kmeans': 1,\n",
    "            'CP1': 1,\n",
    "            'CP2': 1,\n",
    "            'CP3': 1,\n",
    "            'CP4': 1,\n",
    "            'CP5': 1\n",
    "        }\n",
    "    },\n",
    "    {\n",
    "        '$merge': {\n",
    "            'into': 'users_compare_both',\n",
    "            'on': 'user_id',\n",
    "            'whenMatched': 'merge',\n",
    "            'whenNotMatched': 'discard'\n",
    "        }\n",
    "    }\n",
    "]\n",
    "\n",
    "user_predicted_kmeans_collection.aggregate(pipeline)"
   ]
  }
 ],
 "metadata": {
  "kernelspec": {
   "display_name": "Python 3 (ipykernel)",
   "language": "python",
   "name": "python3"
  },
  "language_info": {
   "codemirror_mode": {
    "name": "ipython",
    "version": 3
   },
   "file_extension": ".py",
   "mimetype": "text/x-python",
   "name": "python",
   "nbconvert_exporter": "python",
   "pygments_lexer": "ipython3",
   "version": "3.9.13"
  }
 },
 "nbformat": 4,
 "nbformat_minor": 5
}
