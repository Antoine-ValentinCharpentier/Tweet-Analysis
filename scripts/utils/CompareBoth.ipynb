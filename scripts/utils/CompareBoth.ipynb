{
 "cells": [
  {
   "cell_type": "markdown",
   "id": "2ed671fa",
   "metadata": {},
   "source": [
    "# CompareBoth"
   ]
  },
  {
   "cell_type": "code",
   "execution_count": null,
   "id": "cf2a27d0",
   "metadata": {},
   "outputs": [],
   "source": [
    "import pymongo"
   ]
  },
  {
   "cell_type": "code",
   "execution_count": null,
   "id": "86b66f4a",
   "metadata": {},
   "outputs": [],
   "source": [
    "client = pymongo.MongoClient(\"mongodb://localhost:27017\")\n",
    "db = client[\"Tweet\"]\n",
    "\n",
    "user_collection = db[\"users\"]\n",
    "user_labeled_svm_collection = db[\"users_labeled\"]\n",
    "user_predicted_svm_collection = db[\"users_predicted\"]\n",
    "user_predicted_kmeans_collection = db[\"users_kmeans_labeled\"]\n",
    "\n",
    "user_compare_both_collection = db[\"users_compare_both\"]"
   ]
  },
  {
   "cell_type": "code",
   "execution_count": null,
   "id": "8ed2a7f8",
   "metadata": {},
   "outputs": [],
   "source": [
    "user_compare_both_collection.drop()"
   ]
  },
  {
   "cell_type": "markdown",
   "id": "07c5424e",
   "metadata": {},
   "source": [
    "## Fusion des résultats du Kmeans avec SVM dans users_compare_both"
   ]
  },
  {
   "cell_type": "markdown",
   "id": "76990042",
   "metadata": {},
   "source": [
    "### Faire une copie des attributs de users dans users_compare_both"
   ]
  },
  {
   "cell_type": "code",
   "execution_count": null,
   "id": "d277de73",
   "metadata": {},
   "outputs": [],
   "source": [
    "users = user_collection.find({})\n",
    "user_compare_both_collection.insert_many(users)"
   ]
  },
  {
   "cell_type": "markdown",
   "id": "fc61a55a",
   "metadata": {},
   "source": [
    "### Merge les données labélisées du SVM dans users_compare_both"
   ]
  },
  {
   "cell_type": "code",
   "execution_count": null,
   "id": "b9a316bf",
   "metadata": {},
   "outputs": [],
   "source": [
    "pipeline = [\n",
    "    {\n",
    "        '$project': {\n",
    "            '_id': 1,\n",
    "            'user_id': 1,\n",
    "            'label_svm': '$label'\n",
    "        }\n",
    "    },\n",
    "    {\n",
    "        '$merge': {\n",
    "            'into': 'users_compare_both',\n",
    "            'on': '_id',\n",
    "            'whenMatched': 'merge',\n",
    "            'whenNotMatched': 'discard'\n",
    "        }\n",
    "    }\n",
    "]\n",
    "\n",
    "for collection in [user_labeled_svm_collection, user_predicted_svm_collection]:\n",
    "    collection.aggregate(pipeline)"
   ]
  },
  {
   "cell_type": "markdown",
   "id": "780220cb",
   "metadata": {},
   "source": [
    "### Merge les données labélisées du Kmeans dans users_compare_both"
   ]
  },
  {
   "cell_type": "markdown",
   "id": "f6940325",
   "metadata": {},
   "source": [
    "On créé des indexes pour merge sur user_id"
   ]
  },
  {
   "cell_type": "code",
   "execution_count": null,
   "id": "d150a3b8",
   "metadata": {},
   "outputs": [],
   "source": [
    "user_compare_both_collection.create_index(\"user_id\", unique=True)\n",
    "user_predicted_kmeans_collection.create_index(\"user_id\", unique=True)"
   ]
  },
  {
   "cell_type": "code",
   "execution_count": null,
   "id": "05eb55d9",
   "metadata": {},
   "outputs": [],
   "source": [
    "pipeline = [\n",
    "    {\n",
    "        '$project': {\n",
    "            '_id': 0,\n",
    "            'user_id': 1,\n",
    "            'label_kmeans': 1,\n",
    "            'CP1': 1,\n",
    "            'CP2': 1,\n",
    "            'CP3': 1,\n",
    "            'CP4': 1,\n",
    "            'CP5': 1\n",
    "        }\n",
    "    },\n",
    "    {\n",
    "        '$merge': {\n",
    "            'into': 'users_compare_both',\n",
    "            'on': 'user_id',\n",
    "            'whenMatched': 'merge',\n",
    "            'whenNotMatched': 'discard'\n",
    "        }\n",
    "    }\n",
    "]\n",
    "\n",
    "user_predicted_kmeans_collection.aggregate(pipeline)"
   ]
  }
 ],
 "metadata": {
  "kernelspec": {
   "display_name": "Python 3 (ipykernel)",
   "language": "python",
   "name": "python3"
  },
  "language_info": {
   "codemirror_mode": {
    "name": "ipython",
    "version": 3
   },
   "file_extension": ".py",
   "mimetype": "text/x-python",
   "name": "python",
   "nbconvert_exporter": "python",
   "pygments_lexer": "ipython3",
   "version": "3.9.13"
  }
 },
 "nbformat": 4,
 "nbformat_minor": 5
}
