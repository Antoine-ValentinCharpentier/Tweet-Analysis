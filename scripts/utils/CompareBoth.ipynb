{
 "cells": [
  {
   "attachments": {},
   "cell_type": "markdown",
   "id": "e3c05dcd",
   "metadata": {},
   "source": [
    "# CompareBoth"
   ]
  },
  {
   "cell_type": "code",
   "execution_count": 1,
   "id": "9f460244",
   "metadata": {},
   "outputs": [],
   "source": [
    "import pymongo\n",
    "import pandas as pd\n",
    "import matplotlib.pyplot as plt\n",
    "from mpl_toolkits.mplot3d import Axes3D\n",
    "from itertools import combinations\n",
    "import seaborn as sns"
   ]
  },
  {
   "cell_type": "code",
   "execution_count": 2,
   "id": "118b98e2",
   "metadata": {},
   "outputs": [],
   "source": [
    "client = pymongo.MongoClient(\"mongodb://localhost:27017\")\n",
    "db = client[\"Tweet\"]\n",
    "\n",
    "user_collection = db[\"users\"]\n",
    "user_labeled_svm_collection = db[\"users_labeled\"]\n",
    "user_predicted_svm_collection = db[\"users_predicted\"]\n",
    "user_predicted_kmeans_collection = db[\"users_kmeans_labeled\"]\n",
    "\n",
    "user_compare_both_collection = db[\"users_compare_both\"]"
   ]
  },
  {
   "cell_type": "code",
   "execution_count": 3,
   "id": "704710f1",
   "metadata": {},
   "outputs": [],
   "source": [
    "user_compare_both_collection.drop()"
   ]
  },
  {
   "attachments": {},
   "cell_type": "markdown",
   "id": "c6dfb27a",
   "metadata": {},
   "source": [
    "## Fusion des résultats du Kmeans avec SVM dans users_compare_both"
   ]
  },
  {
   "attachments": {},
   "cell_type": "markdown",
   "id": "2fe5235d",
   "metadata": {},
   "source": [
    "### Faire une copie des attributs de users dans users_compare_both"
   ]
  },
  {
   "cell_type": "code",
   "execution_count": 4,
   "id": "963d79b4",
   "metadata": {},
   "outputs": [
    {
     "data": {
      "text/plain": [
       "<pymongo.results.InsertManyResult at 0x1aea2446ad0>"
      ]
     },
     "execution_count": 4,
     "metadata": {},
     "output_type": "execute_result"
    }
   ],
   "source": [
    "users = user_collection.find({})\n",
    "user_compare_both_collection.insert_many(users)"
   ]
  },
  {
   "attachments": {},
   "cell_type": "markdown",
   "id": "5bdcade6",
   "metadata": {},
   "source": [
    "### Merge les données labélisées du SVM dans users_compare_both"
   ]
  },
  {
   "cell_type": "code",
   "execution_count": 5,
   "id": "27a68f87",
   "metadata": {},
   "outputs": [],
   "source": [
    "pipeline = [\n",
    "    {\n",
    "        '$project': {\n",
    "            '_id': 1,\n",
    "            'user_id': 1,\n",
    "            'label_svm': '$label'\n",
    "        }\n",
    "    },\n",
    "    {\n",
    "        '$merge': {\n",
    "            'into': 'users_compare_both',\n",
    "            'on': '_id',\n",
    "            'whenMatched': 'merge',\n",
    "            'whenNotMatched': 'discard'\n",
    "        }\n",
    "    }\n",
    "]\n",
    "\n",
    "for collection in [user_labeled_svm_collection, user_predicted_svm_collection]:\n",
    "    collection.aggregate(pipeline)"
   ]
  },
  {
   "attachments": {},
   "cell_type": "markdown",
   "id": "460aa2fb",
   "metadata": {},
   "source": [
    "### Merge les données labélisées du Kmeans dans users_compare_both"
   ]
  },
  {
   "attachments": {},
   "cell_type": "markdown",
   "id": "367fbe9b",
   "metadata": {},
   "source": [
    "On créé des indexes pour merge sur user_id"
   ]
  },
  {
   "cell_type": "code",
   "execution_count": 6,
   "id": "a9d6a42c",
   "metadata": {},
   "outputs": [
    {
     "data": {
      "text/plain": [
       "'user_id_1'"
      ]
     },
     "execution_count": 6,
     "metadata": {},
     "output_type": "execute_result"
    }
   ],
   "source": [
    "user_compare_both_collection.create_index(\"user_id\", unique=True)\n",
    "user_predicted_kmeans_collection.create_index(\"user_id\", unique=True)"
   ]
  },
  {
   "cell_type": "code",
   "execution_count": 7,
   "id": "157f1df3",
   "metadata": {},
   "outputs": [
    {
     "data": {
      "text/plain": [
       "<pymongo.command_cursor.CommandCursor at 0x1ae9b4906d0>"
      ]
     },
     "execution_count": 7,
     "metadata": {},
     "output_type": "execute_result"
    }
   ],
   "source": [
    "pipeline = [\n",
    "    {\n",
    "        '$project': {\n",
    "            '_id': 0,\n",
    "            'user_id': 1,\n",
    "            'label_kmeans': 1,\n",
    "            'CP1': 1,\n",
    "            'CP2': 1,\n",
    "            'CP3': 1,\n",
    "            'CP4': 1,\n",
    "            'CP5': 1\n",
    "        }\n",
    "    },\n",
    "    {\n",
    "        '$merge': {\n",
    "            'into': 'users_compare_both',\n",
    "            'on': 'user_id',\n",
    "            'whenMatched': 'merge',\n",
    "            'whenNotMatched': 'discard'\n",
    "        }\n",
    "    }\n",
    "]\n",
    "\n",
    "user_predicted_kmeans_collection.aggregate(pipeline)"
   ]
  },
  {
   "attachments": {},
   "cell_type": "markdown",
   "id": "130ed076",
   "metadata": {},
   "source": [
    "## Visualisations"
   ]
  },
  {
   "cell_type": "code",
   "execution_count": 18,
   "id": "cf73bce9",
   "metadata": {},
   "outputs": [],
   "source": [
    "users = user_compare_both_collection.find({})"
   ]
  },
  {
   "cell_type": "code",
   "execution_count": 19,
   "id": "e8e43a3a",
   "metadata": {},
   "outputs": [],
   "source": [
    "users = pd.DataFrame(list(users))"
   ]
  },
  {
   "attachments": {},
   "cell_type": "markdown",
   "id": "81f0ec3c",
   "metadata": {},
   "source": [
    "### Confusion matrix"
   ]
  },
  {
   "cell_type": "code",
   "execution_count": 20,
   "id": "361498cc",
   "metadata": {},
   "outputs": [
    {
     "data": {
      "image/png": "[encoded data removed]",
      "text/plain": [
       "<Figure size 640x480 with 2 Axes>"
      ]
     },
     "metadata": {},
     "output_type": "display_data"
    }
   ],
   "source": [
    "# Créer une matrice de confusion\n",
    "confusion_matrix = pd.crosstab(users['label_svm'], users['label_kmeans'])\n",
    "\n",
    "# Créer une heatmap à partir de la matrice de confusion\n",
    "sns.heatmap(confusion_matrix, annot=True, cmap='YlGnBu', fmt='d')\n",
    "\n",
    "# Configurer les étiquettes des axes\n",
    "plt.xlabel('label_kmeans')\n",
    "plt.ylabel('label_svm')\n",
    "\n",
    "# Afficher la heatmap\n",
    "plt.show()"
   ]
  },
  {
   "attachments": {},
   "cell_type": "markdown",
   "id": "8ec8bf69",
   "metadata": {},
   "source": [
    "### Toutes les combinaisons de 3 attributs"
   ]
  },
  {
   "cell_type": "code",
   "execution_count": 21,
   "id": "9792d208",
   "metadata": {},
   "outputs": [],
   "source": [
    "attributs_to_drop = ['_id', 'user_id', 'user_id', \"last_tweet_published_id\",\"tweet_ids\",\"CP1\",\"CP2\",\"CP3\",\"CP4\",\"CP5\",\"label_kmeans\",\"label_svm\"]\n",
    "X = users.drop(columns=attributs_to_drop)"
   ]
  },
  {
   "cell_type": "code",
   "execution_count": 22,
   "id": "25a28a23",
   "metadata": {},
   "outputs": [],
   "source": [
    "Y_SVM = users.label_svm\n",
    "Y_Kmeans = users.label_kmeans"
   ]
  },
  {
   "cell_type": "code",
   "execution_count": 23,
   "id": "0926b852",
   "metadata": {},
   "outputs": [],
   "source": [
    "attributs = X.columns.to_list()\n",
    "couples_axes = list(combinations(attributs, 3))"
   ]
  },
  {
   "cell_type": "code",
   "execution_count": null,
   "id": "ba911438",
   "metadata": {},
   "outputs": [],
   "source": [
    "method = ['SVM', 'Kmeans']\n",
    "colors = ['blue', 'red', 'pink', 'yellow', 'green', 'black', 'orange']\n",
    "colors_svm = [colors[label] for label in Y_SVM]\n",
    "colors_kmeans = [colors[label] for label in Y_Kmeans]"
   ]
  },
  {
   "cell_type": "code",
   "execution_count": null,
   "id": "7d07a0cc",
   "metadata": {},
   "outputs": [],
   "source": [
    "len(couples_axes)"
   ]
  },
  {
   "attachments": {},
   "cell_type": "markdown",
   "id": "5241c925",
   "metadata": {},
   "source": [
    "> Réduire le nombre d'attributs, de combinaisons & Mettre à jour la légende pour le Kmeans"
   ]
  },
  {
   "cell_type": "code",
   "execution_count": null,
   "id": "8ed73ab8",
   "metadata": {},
   "outputs": [],
   "source": [
    "for i, couple in enumerate(couples_axes):\n",
    "    fig, axes = plt.subplots(nrows=1, ncols=2, figsize=(20, 50), subplot_kw={'projection': '3d'})\n",
    "    x = X[couple[0]]\n",
    "    y = X[couple[1]]\n",
    "    z = X[couple[2]]\n",
    "    for j, colors in enumerate([colors_svm, colors_kmeans]):\n",
    "        subplot_index = j\n",
    "        ax = axes.flatten()[subplot_index]\n",
    "\n",
    "        ax.scatter(x, y, z, c=colors)\n",
    "\n",
    "        ax.set_xlabel(couple[0])\n",
    "        ax.set_ylabel(couple[1])\n",
    "        ax.set_zlabel(couple[2])\n",
    "\n",
    "        title = f\"{method[j]} ({couple[0]}, {couple[1]}, {couple[2]})\"\n",
    "        ax.set_title(title)\n",
    "\n",
    "        legend_elements = [plt.Line2D([0], [0], marker='o', color='w', label='Normaux', markerfacecolor='blue', markersize=8),\n",
    "                           plt.Line2D([0], [0], marker='o', color='w', label='Atypiques', markerfacecolor='red', markersize=8)]\n",
    "        ax.legend(handles=legend_elements)\n",
    "\n",
    "    plt.tight_layout()\n",
    "    plt.show()"
   ]
  }
 ],
 "metadata": {
  "kernelspec": {
   "display_name": "Python 3 (ipykernel)",
   "language": "python",
   "name": "python3"
  },
  "language_info": {
   "codemirror_mode": {
    "name": "ipython",
    "version": 3
   },
   "file_extension": ".py",
   "mimetype": "text/x-python",
   "name": "python",
   "nbconvert_exporter": "python",
   "pygments_lexer": "ipython3",
   "version": "3.10.0"
  }
 },
 "nbformat": 4,
 "nbformat_minor": 5
}
