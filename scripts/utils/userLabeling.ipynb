{
 "cells": [
  {
   "cell_type": "markdown",
   "id": "030b9c10",
   "metadata": {},
   "source": [
    "# User Labeling\n",
    "\n",
    "## Présentation\n",
    "Le script en question a pour objectif de labéliser les utilisateurs en deux catégories distinctes : ceux qui sont considérés comme atypiques (avec un label à 1) et ceux qui ne le sont pas (avec un label à 0). \n",
    "\n",
    "Les utilisateurs jugés atypiques pourront être identifiés grâce à des comportements ou des actions qui sortent de l'ordinaire\n",
    "\n",
    "En labélisant les utilisateurs de cette manière, le script peut permettre de mieux comprendre les comportements des utilisateurs.\n",
    "\n",
    "Comment fonctionne-t-il ?\n",
    "- Dès qu'un des attributs de l'utilisateur dépasse la valeur minimale qui lui est associée, celui-ci est alors considéré comme atypique.\n",
    "\n",
    "## Le code\n",
    "On importe les différentes bibliothèques nécessaires."
   ]
  },
  {
   "cell_type": "code",
   "execution_count": null,
   "id": "e4fc3643",
   "metadata": {},
   "outputs": [],
   "source": [
    "import pymongo\n",
    "import math"
   ]
  },
  {
   "cell_type": "markdown",
   "id": "2ea8d947",
   "metadata": {},
   "source": [
    "Connexion à la base de données MongoDB"
   ]
  },
  {
   "cell_type": "code",
   "execution_count": null,
   "id": "bae81741",
   "metadata": {},
   "outputs": [],
   "source": [
    "client = pymongo.MongoClient(\"mongodb://localhost:27017\")\n",
    "db = client[\"Tweet\"]\n",
    "user_collection = db[\"users\"]\n",
    "user_labeled_collection = db[\"users_labeled\"]"
   ]
  },
  {
   "cell_type": "markdown",
   "id": "4780f591",
   "metadata": {},
   "source": [
    "On supprime toute la collection des utilisateurs labellisés pour supprimer par la même occasion les données qu'elle contient."
   ]
  },
  {
   "cell_type": "code",
   "execution_count": null,
   "id": "f7671311",
   "metadata": {},
   "outputs": [],
   "source": [
    "user_labeled_collection.drop()"
   ]
  },
  {
   "cell_type": "markdown",
   "id": "d1fa4e1a",
   "metadata": {},
   "source": [
    "On définit les valeurs minimales des champs sur lesquels on va déterminer si un utilisateur est atypique ou non"
   ]
  },
  {
   "cell_type": "code",
   "execution_count": null,
   "id": "a82b6272",
   "metadata": {},
   "outputs": [],
   "source": [
    "min_values_suspicious = {\n",
    "    'hashtag_frequency': 5,\n",
    "    'favourites_count': 60_000,\n",
    "    'friends_count': 6_000,\n",
    "    'followers_count': 9_000,\n",
    "    'ratio_friends_followers': 10,\n",
    "    'tweet_frequency': 70,\n",
    "    'Ap': 0.02,\n",
    "    'ratio_sensitive_tweets': 0,\n",
    "    'ratio_punctuation_tweets': 0.5,\n",
    "    'visibility': 0.5\n",
    "}"
   ]
  },
  {
   "cell_type": "markdown",
   "id": "a00020bf",
   "metadata": {},
   "source": [
    "Définition de la fonction qui détermine le score de suspicion d'un utilisateur"
   ]
  },
  {
   "cell_type": "code",
   "execution_count": null,
   "id": "77d7c5ef",
   "metadata": {},
   "outputs": [],
   "source": [
    "def get_suspicious_score(user):\n",
    "    suspicious_fields = []\n",
    "    for key, value in min_values_suspicious.items():\n",
    "        if user[key] > value:\n",
    "            suspicious_fields.append(key)\n",
    "    return (len(suspicious_fields), suspicious_fields)"
   ]
  },
  {
   "cell_type": "markdown",
   "id": "7f1c4297",
   "metadata": {},
   "source": [
    "Définition de la fonction qui détermine le label d'un utilisateur enfocntion de on score de suspicion"
   ]
  },
  {
   "cell_type": "code",
   "execution_count": null,
   "id": "38f21071",
   "metadata": {},
   "outputs": [],
   "source": [
    "def get_label(user):\n",
    "    suspicious_score, suspicious_fields = get_suspicious_score(user)\n",
    "    if suspicious_score >= 1:\n",
    "        return (suspicious_score, suspicious_fields, 1)\n",
    "    else:\n",
    "        return (suspicious_score, suspicious_fields, 0)"
   ]
  },
  {
   "cell_type": "markdown",
   "id": "5e9bae67",
   "metadata": {},
   "source": [
    "Définition du nombre d'utilisateur à labéliser"
   ]
  },
  {
   "cell_type": "code",
   "execution_count": null,
   "id": "cbb451f8",
   "metadata": {},
   "outputs": [],
   "source": [
    "nb_users_labeled = 40_000"
   ]
  },
  {
   "cell_type": "markdown",
   "id": "cfa264f8",
   "metadata": {},
   "source": [
    "On insérer dans mongodb les utilisateurs avec leur label calculé"
   ]
  },
  {
   "cell_type": "code",
   "execution_count": null,
   "id": "6663ce4b",
   "metadata": {},
   "outputs": [],
   "source": [
    "users = user_collection.find({}).limit(nb_users_labeled)\n",
    "\n",
    "users_with_label = []\n",
    "for user in users:\n",
    "    suspicious_score, suspicious_fields, label = get_label(user)\n",
    "    user['label'] = label\n",
    "    user['suspicious_score'] = suspicious_score\n",
    "    user['suspicious_fields'] = suspicious_fields\n",
    "    users_with_label.append(user)\n",
    "\n",
    "user_labeled_collection.insert_many(users_with_label)"
   ]
  },
  {
   "cell_type": "markdown",
   "id": "b318102f",
   "metadata": {},
   "source": [
    "## Quelques statistiques"
   ]
  },
  {
   "cell_type": "markdown",
   "id": "10433500",
   "metadata": {},
   "source": [
    "Affichage de l'occurence de chaque attribut atypique"
   ]
  },
  {
   "cell_type": "code",
   "execution_count": null,
   "id": "cd7428d6",
   "metadata": {},
   "outputs": [],
   "source": [
    "pipeline = [\n",
    "    {\n",
    "        '$unwind': '$suspicious_fields'\n",
    "    },\n",
    "    {\n",
    "        '$group': {\n",
    "            '_id': '$suspicious_fields',\n",
    "            'count': {'$sum': 1}\n",
    "        }\n",
    "    },\n",
    "    {\n",
    "        '$sort': {'count': -1}\n",
    "    }\n",
    "]"
   ]
  },
  {
   "cell_type": "code",
   "execution_count": null,
   "id": "76b2d1ca",
   "metadata": {},
   "outputs": [],
   "source": [
    "results = list(user_labeled_collection.aggregate(pipeline))\n",
    "for result in results:\n",
    "    print(result['_id'], ':', result['count'])"
   ]
  },
  {
   "cell_type": "markdown",
   "id": "4f566895",
   "metadata": {},
   "source": [
    "Regarder la répartition des points de suspicion"
   ]
  },
  {
   "cell_type": "code",
   "execution_count": null,
   "id": "bc310ac2",
   "metadata": {},
   "outputs": [],
   "source": [
    "res = user_labeled_collection.aggregate([\n",
    "    {\n",
    "        \"$group\": {\n",
    "            \"_id\": \"$suspicious_score\",\n",
    "            \"count\": { \"$sum\": 1 }\n",
    "        }\n",
    "    },\n",
    "    { \n",
    "        \"$sort\" : { \n",
    "            \"count\" : -1 \n",
    "        } \n",
    "    }\n",
    "])\n",
    "\n",
    "for doc in res:\n",
    "    print(doc['_id'], ':', doc['count'])"
   ]
  },
  {
   "cell_type": "markdown",
   "id": "790c8d08",
   "metadata": {},
   "source": [
    "Regarder la répartition des labels atypique ou non"
   ]
  },
  {
   "cell_type": "code",
   "execution_count": null,
   "id": "17ca3c13",
   "metadata": {},
   "outputs": [],
   "source": [
    "res = user_labeled_collection.aggregate([\n",
    "    {\n",
    "        \"$group\": {\n",
    "            \"_id\": \"$label\",\n",
    "            \"count\": { \"$sum\": 1 }\n",
    "        }\n",
    "    },\n",
    "    { \n",
    "        \"$sort\" : { \n",
    "            \"count\" : -1 \n",
    "        } \n",
    "    }\n",
    "])\n",
    "\n",
    "for doc in res:\n",
    "    print('classe', doc['_id'], ':', doc['count'])"
   ]
  }
 ],
 "metadata": {
  "kernelspec": {
   "display_name": "Python 3 (ipykernel)",
   "language": "python",
   "name": "python3"
  },
  "language_info": {
   "codemirror_mode": {
    "name": "ipython",
    "version": 3
   },
   "file_extension": ".py",
   "mimetype": "text/x-python",
   "name": "python",
   "nbconvert_exporter": "python",
   "pygments_lexer": "ipython3",
   "version": "3.9.13"
  }
 },
 "nbformat": 4,
 "nbformat_minor": 5
}
