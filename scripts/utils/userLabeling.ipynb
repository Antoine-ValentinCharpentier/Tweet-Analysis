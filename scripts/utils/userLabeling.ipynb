{
 "cells": [
  {
   "attachments": {},
   "cell_type": "markdown",
   "id": "030b9c10",
   "metadata": {},
   "source": [
    "# User Labeling\n",
    "\n",
    "## Présentation\n",
    "Le script en question a pour objectif de labéliser les utilisateurs en deux catégories distinctes : ceux qui sont considérés comme atypiques (avec un label à 1) et ceux qui ne le sont pas (avec un label à 0). \n",
    "\n",
    "Les utilisateurs jugés atypiques pourront être identifiés grâce à des comportements ou des actions qui sortent de l'ordinaire\n",
    "\n",
    "En labélisant les utilisateurs de cette manière, le script peut permettre de mieux comprendre les comportements des utilisateurs.\n",
    "\n",
    "Comment fonctionne-t-il ?\n",
    "- Dès qu'un des attributs de l'utilisateur dépasse la valeur minimale qui lui est associée, celui-ci est alors considéré comme atypique.\n",
    "- Une fois que le label d'un utilisateur a été identifié et stocké dans la collection `users_labeled`, nous pouvons récupérer les données standardisées présente dans ``users_scaled`` pour mettre à jour les attributs de l'utilisateur dont on a déterminé le label précédemment. On récupère les attributs de `users_scaled` et on ne standardise pas une nouvelle fois les données pour conserver les mêmes données. Si on avait standardisé sur la collection avec les utilisateurs labellisés, les attributs de l'utilisateur auraient changé de valeur du fait d'une moyenne et d'un écart-type différent.\n",
    "\n",
    "## Le code\n",
    "On importe les différentes bibliothèques nécessaires."
   ]
  },
  {
   "cell_type": "code",
   "execution_count": 1,
   "id": "e4fc3643",
   "metadata": {},
   "outputs": [],
   "source": [
    "import pymongo\n",
    "import math\n",
    "import pandas as pd"
   ]
  },
  {
   "attachments": {},
   "cell_type": "markdown",
   "id": "2ea8d947",
   "metadata": {},
   "source": [
    "Connexion à la base de données MongoDB"
   ]
  },
  {
   "cell_type": "code",
   "execution_count": 2,
   "id": "bae81741",
   "metadata": {},
   "outputs": [],
   "source": [
    "client = pymongo.MongoClient(\"mongodb://localhost:27017\")\n",
    "db = client[\"Tweet\"]\n",
    "\n",
    "user_collection = db[\"users\"]\n",
    "user_scaled_collection = db[\"users_scaled\"]\n",
    "user_labeled_collection = db[\"users_labeled\"]"
   ]
  },
  {
   "attachments": {},
   "cell_type": "markdown",
   "id": "4780f591",
   "metadata": {},
   "source": [
    "On supprime toute la collection des utilisateurs labellisés pour supprimer par la même occasion les données qu'elle contient."
   ]
  },
  {
   "cell_type": "code",
   "execution_count": 3,
   "id": "f7671311",
   "metadata": {},
   "outputs": [],
   "source": [
    "user_labeled_collection.drop()"
   ]
  },
  {
   "attachments": {},
   "cell_type": "markdown",
   "id": "d1fa4e1a",
   "metadata": {},
   "source": [
    "On définit les valeurs minimales des champs sur lesquels on va déterminer si un utilisateur est atypique ou non"
   ]
  },
  {
   "cell_type": "code",
   "execution_count": 4,
   "id": "a82b6272",
   "metadata": {},
   "outputs": [],
   "source": [
    "min_values_suspicious = {\n",
    "    'hashtag_frequency': 5,\n",
    "    'favourites_count': 60_000,\n",
    "    'friends_count': 6_000,\n",
    "    'followers_count': 9_000,\n",
    "    'ratio_friends_followers': 10,\n",
    "    'tweet_frequency': 70,\n",
    "    'Ap': 0.02,\n",
    "    'ratio_sensitive_tweets': 0,\n",
    "    'ratio_punctuation_tweets': 0.5,\n",
    "    'visibility': 0.5,\n",
    "    'verified':0\n",
    "}"
   ]
  },
  {
   "attachments": {},
   "cell_type": "markdown",
   "id": "a00020bf",
   "metadata": {},
   "source": [
    "Définition de la fonction qui détermine le score de suspicion d'un utilisateur"
   ]
  },
  {
   "cell_type": "code",
   "execution_count": 5,
   "id": "77d7c5ef",
   "metadata": {},
   "outputs": [],
   "source": [
    "def get_suspicious_score(user):\n",
    "    suspicious_fields = []\n",
    "    for key, value in min_values_suspicious.items():\n",
    "        if user[key] > value:\n",
    "            suspicious_fields.append(key)\n",
    "    return (len(suspicious_fields), suspicious_fields)"
   ]
  },
  {
   "attachments": {},
   "cell_type": "markdown",
   "id": "7f1c4297",
   "metadata": {},
   "source": [
    "Définition de la fonction qui détermine le label d'un utilisateur enfocntion de on score de suspicion"
   ]
  },
  {
   "cell_type": "code",
   "execution_count": 6,
   "id": "38f21071",
   "metadata": {},
   "outputs": [],
   "source": [
    "def get_label(user):\n",
    "    suspicious_score, suspicious_fields = get_suspicious_score(user)\n",
    "    if suspicious_score >= 2:\n",
    "        return (suspicious_score, suspicious_fields, 1)\n",
    "    else:\n",
    "        return (suspicious_score, suspicious_fields, 0)"
   ]
  },
  {
   "attachments": {},
   "cell_type": "markdown",
   "id": "5e9bae67",
   "metadata": {},
   "source": [
    "Définition du nombre d'utilisateur à labéliser"
   ]
  },
  {
   "cell_type": "code",
   "execution_count": 7,
   "id": "cbb451f8",
   "metadata": {},
   "outputs": [],
   "source": [
    "nb_users_labeled = 20_000"
   ]
  },
  {
   "attachments": {},
   "cell_type": "markdown",
   "id": "cfa264f8",
   "metadata": {},
   "source": [
    "On insérer dans mongodb les utilisateurs avec leur label calculé"
   ]
  },
  {
   "cell_type": "code",
   "execution_count": 8,
   "id": "6663ce4b",
   "metadata": {},
   "outputs": [
    {
     "data": {
      "text/plain": [
       "<pymongo.results.InsertManyResult at 0x17cdb82fc70>"
      ]
     },
     "execution_count": 8,
     "metadata": {},
     "output_type": "execute_result"
    }
   ],
   "source": [
    "users = user_collection.find({}).limit(nb_users_labeled)\n",
    "\n",
    "users_with_label = []\n",
    "for user in users:\n",
    "    suspicious_score, suspicious_fields, label = get_label(user)\n",
    "    \n",
    "    user_labeled = {}\n",
    "    user_labeled['_id'] = user['_id']\n",
    "    user_labeled['user_id'] = user['user_id']\n",
    "    user_labeled['label'] = label\n",
    "    user_labeled['suspicious_score'] = suspicious_score\n",
    "    user_labeled['suspicious_fields'] = suspicious_fields\n",
    "\n",
    "    users_with_label.append(user_labeled)\n",
    "\n",
    "user_labeled_collection.insert_many(users_with_label)\n"
   ]
  },
  {
   "attachments": {},
   "cell_type": "markdown",
   "id": "790245b8",
   "metadata": {},
   "source": [
    "## Standardisation des utilisateurs labélisés"
   ]
  },
  {
   "cell_type": "code",
   "execution_count": 9,
   "id": "4e568aab",
   "metadata": {},
   "outputs": [
    {
     "data": {
      "text/plain": [
       "<pymongo.command_cursor.CommandCursor at 0x17cdb82f580>"
      ]
     },
     "execution_count": 9,
     "metadata": {},
     "output_type": "execute_result"
    }
   ],
   "source": [
    "pipeline = [\n",
    "    {\n",
    "        '$merge': {\n",
    "            'into': 'users_labeled',\n",
    "            'on': '_id',\n",
    "            'whenMatched': 'merge',\n",
    "            'whenNotMatched': 'discard'\n",
    "        }\n",
    "    }\n",
    "]\n",
    "\n",
    "user_scaled_collection.aggregate(pipeline)\n"
   ]
  },
  {
   "attachments": {},
   "cell_type": "markdown",
   "id": "b318102f",
   "metadata": {},
   "source": [
    "## Quelques statistiques"
   ]
  },
  {
   "attachments": {},
   "cell_type": "markdown",
   "id": "10433500",
   "metadata": {},
   "source": [
    "Affichage de l'occurence de chaque attribut atypique"
   ]
  },
  {
   "cell_type": "code",
   "execution_count": 10,
   "id": "cd7428d6",
   "metadata": {},
   "outputs": [],
   "source": [
    "pipeline = [\n",
    "    {\n",
    "        '$unwind': '$suspicious_fields'\n",
    "    },\n",
    "    {\n",
    "        '$group': {\n",
    "            '_id': '$suspicious_fields',\n",
    "            'count': {'$sum': 1}\n",
    "        }\n",
    "    },\n",
    "    {\n",
    "        '$sort': {'count': -1}\n",
    "    }\n",
    "]"
   ]
  },
  {
   "cell_type": "code",
   "execution_count": 11,
   "id": "76b2d1ca",
   "metadata": {},
   "outputs": [
    {
     "name": "stdout",
     "output_type": "stream",
     "text": [
      "tweet_frequency : 1157\n",
      "followers_count : 1050\n",
      "ratio_friends_followers : 843\n",
      "favourites_count : 700\n",
      "hashtag_frequency : 404\n",
      "friends_count : 403\n",
      "verified : 377\n",
      "ratio_sensitive_tweets : 311\n",
      "Ap : 290\n",
      "visibility : 107\n"
     ]
    }
   ],
   "source": [
    "results = list(user_labeled_collection.aggregate(pipeline))\n",
    "for result in results:\n",
    "    print(result['_id'], ':', result['count'])"
   ]
  },
  {
   "attachments": {},
   "cell_type": "markdown",
   "id": "4f566895",
   "metadata": {},
   "source": [
    "Regarder la répartition des points de suspicion"
   ]
  },
  {
   "cell_type": "code",
   "execution_count": 12,
   "id": "bc310ac2",
   "metadata": {},
   "outputs": [
    {
     "name": "stdout",
     "output_type": "stream",
     "text": [
      "0 : 16042\n",
      "1 : 2695\n",
      "2 : 941\n",
      "3 : 239\n",
      "4 : 69\n",
      "5 : 12\n",
      "6 : 2\n"
     ]
    }
   ],
   "source": [
    "res = user_labeled_collection.aggregate([\n",
    "    {\n",
    "        \"$group\": {\n",
    "            \"_id\": \"$suspicious_score\",\n",
    "            \"count\": { \"$sum\": 1 }\n",
    "        }\n",
    "    },\n",
    "    { \n",
    "        \"$sort\" : { \n",
    "            \"count\" : -1 \n",
    "        } \n",
    "    }\n",
    "])\n",
    "\n",
    "for doc in res:\n",
    "    print(doc['_id'], ':', doc['count'])"
   ]
  },
  {
   "attachments": {},
   "cell_type": "markdown",
   "id": "790c8d08",
   "metadata": {},
   "source": [
    "Regarder la répartition des labels atypique ou non"
   ]
  },
  {
   "cell_type": "code",
   "execution_count": 13,
   "id": "17ca3c13",
   "metadata": {},
   "outputs": [
    {
     "name": "stdout",
     "output_type": "stream",
     "text": [
      "classe 0 : 18737\n",
      "classe 1 : 1263\n"
     ]
    }
   ],
   "source": [
    "res = user_labeled_collection.aggregate([\n",
    "    {\n",
    "        \"$group\": {\n",
    "            \"_id\": \"$label\",\n",
    "            \"count\": { \"$sum\": 1 }\n",
    "        }\n",
    "    },\n",
    "    { \n",
    "        \"$sort\" : { \n",
    "            \"count\" : -1 \n",
    "        } \n",
    "    }\n",
    "])\n",
    "\n",
    "for doc in res:\n",
    "    print('classe', doc['_id'], ':', doc['count'])"
   ]
  }
 ],
 "metadata": {
  "kernelspec": {
   "display_name": "Python 3 (ipykernel)",
   "language": "python",
   "name": "python3"
  },
  "language_info": {
   "codemirror_mode": {
    "name": "ipython",
    "version": 3
   },
   "file_extension": ".py",
   "mimetype": "text/x-python",
   "name": "python",
   "nbconvert_exporter": "python",
   "pygments_lexer": "ipython3",
   "version": "3.10.0"
  }
 },
 "nbformat": 4,
 "nbformat_minor": 5
}
