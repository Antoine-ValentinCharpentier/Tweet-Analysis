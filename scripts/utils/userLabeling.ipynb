{
 "cells": [
  {
   "cell_type": "markdown",
   "id": "030b9c10",
   "metadata": {},
   "source": [
    "# User Labeling\n",
    "\n",
    "## Présentation\n",
    "Le script en question a pour objectif de labéliser les utilisateurs en deux catégories distinctes : ceux qui sont considérés comme atypiques (avec un label à 1) et ceux qui ne le sont pas (avec un label à 0). \n",
    "\n",
    "Les utilisateurs jugés atypiques pourront être identifiés grâce à des comportements ou des actions qui sortent de l'ordinaire\n",
    "\n",
    "En labélisant les utilisateurs de cette manière, le script peut permettre de mieux comprendre les comportements des utilisateurs.\n",
    "\n",
    "Comment fonctionne-t-il ?\n",
    "1. Pour chaque attribut des utilisateurs, on calcul la valeur minimale dont possède **seulement 10% de la population** des utilisateurs avec une valeur maximale. Ces valeurs correspondent donc au 10% des valeurs les plus élevées que les utilisateurs possèdes.\n",
    "2. Attribution d'un score de suspicion pour chaque utilisateur. Pour ce faire, on utilise toutes les valeurs trouvées précédemment et on les compare avec les valeurs de l'utilisateur. Plus l'utilisateur possède de valeur supérieure aux valeurs précédente, plus il est atypique.\n",
    "3. Si se score dépasse 3, alors il est considéré comme atypique.\n",
    "\n",
    "## Le code\n",
    "On importe les différentes bibliothèques nécessaires."
   ]
  },
  {
   "cell_type": "code",
   "execution_count": null,
   "id": "e4fc3643",
   "metadata": {},
   "outputs": [],
   "source": [
    "import pymongo\n",
    "import math"
   ]
  },
  {
   "cell_type": "markdown",
   "id": "2ea8d947",
   "metadata": {},
   "source": [
    "Connexion à la base de données MongoDB"
   ]
  },
  {
   "cell_type": "code",
   "execution_count": null,
   "id": "bae81741",
   "metadata": {},
   "outputs": [],
   "source": [
    "client = pymongo.MongoClient(\"mongodb://localhost:27017\")\n",
    "db = client[\"Tweet\"]\n",
    "user_collection = db[\"users\"]\n",
    "user_labeled_collection = db[\"users_labeled\"]"
   ]
  },
  {
   "cell_type": "markdown",
   "id": "4780f591",
   "metadata": {},
   "source": [
    "On supprime toute la collection des utilisateurs labellisés pour supprimer par la même occasion les données qu'elle contient."
   ]
  },
  {
   "cell_type": "code",
   "execution_count": null,
   "id": "f7671311",
   "metadata": {},
   "outputs": [],
   "source": [
    "user_labeled_collection.drop()"
   ]
  },
  {
   "cell_type": "markdown",
   "id": "d1fa4e1a",
   "metadata": {},
   "source": [
    "On définit les champs sur lesquels on va déterminer si un utilisateur est atypique ou non"
   ]
  },
  {
   "cell_type": "code",
   "execution_count": null,
   "id": "3803c05a",
   "metadata": {},
   "outputs": [],
   "source": [
    "field_to_analyse = ['hashtag_frequency', 'favourites_count', 'friends_count', 'followers_count', 'ratio_friends_followers', 'tweet_frequency', 'Ap', 'ratio_sensitive_tweets', 'ratio_punctuation_tweets', 'visibility']"
   ]
  },
  {
   "cell_type": "markdown",
   "id": "19d9ed29",
   "metadata": {},
   "source": [
    "### Calcul des valeurs minimales de suspicion (10% de la population)"
   ]
  },
  {
   "cell_type": "code",
   "execution_count": null,
   "id": "ca067374",
   "metadata": {},
   "outputs": [],
   "source": [
    "percentage = 8\n",
    "BATCH_SIZE = 100_000\n",
    "\n",
    "total_documents = user_collection.count_documents({})\n",
    "num_batches = math.ceil(total_documents / BATCH_SIZE)\n",
    "nb_values_to_keep = math.ceil(total_documents * percentage / 100)\n",
    "\n",
    "max_values = {field: [] for field in field_to_analyse}\n",
    "\n",
    "for page in range(num_batches):\n",
    "    print('Page n°', page)\n",
    "    users_batch = user_collection.find({}).skip(page * BATCH_SIZE).limit(BATCH_SIZE)\n",
    "    for user in users_batch:\n",
    "        for field in field_to_analyse:\n",
    "            max_values[field].append(user[field])\n",
    "    \n",
    "    for key, values in max_values.items():\n",
    "        max_values[key] = sorted(values)[-nb_values_to_keep:]\n",
    "\n",
    "res = {}\n",
    "for key, values in max_values.items():\n",
    "    res[key] = values[0]"
   ]
  },
  {
   "cell_type": "markdown",
   "id": "5ca81617",
   "metadata": {},
   "source": [
    "affichage des valeur minimales de suspicions"
   ]
  },
  {
   "cell_type": "code",
   "execution_count": null,
   "id": "3c510744",
   "metadata": {
    "scrolled": true
   },
   "outputs": [],
   "source": [
    "res"
   ]
  },
  {
   "cell_type": "markdown",
   "id": "c1fc9a1e",
   "metadata": {},
   "source": [
    "### Calcul du score de suspicion et du label"
   ]
  },
  {
   "cell_type": "markdown",
   "id": "a00020bf",
   "metadata": {},
   "source": [
    "Définition de la fonction qui détermine le score de suspicion d'un utilisateur"
   ]
  },
  {
   "cell_type": "code",
   "execution_count": null,
   "id": "77d7c5ef",
   "metadata": {},
   "outputs": [],
   "source": [
    "def get_suspicious_score(user):\n",
    "    suspicious_fields = []\n",
    "    for key, value in res.items():\n",
    "        if user[key] > value:\n",
    "            suspicious_fields.append(key)\n",
    "    return (len(suspicious_fields), suspicious_fields)"
   ]
  },
  {
   "cell_type": "markdown",
   "id": "7f1c4297",
   "metadata": {},
   "source": [
    "Définition de la fonction qui détermine le label d'un utilisateur enfocntion de on score de suspicion"
   ]
  },
  {
   "cell_type": "code",
   "execution_count": null,
   "id": "38f21071",
   "metadata": {},
   "outputs": [],
   "source": [
    "def get_label(user):\n",
    "    suspicious_score, suspicious_fields = get_suspicious_score(user)\n",
    "    if suspicious_score >= 3:\n",
    "        return (suspicious_score, suspicious_fields, 1)\n",
    "    else:\n",
    "        return (suspicious_score, suspicious_fields, 0)"
   ]
  },
  {
   "cell_type": "markdown",
   "id": "cfa264f8",
   "metadata": {},
   "source": [
    "On insérer dans mongodb les utilisateurs avec leur label calculé"
   ]
  },
  {
   "cell_type": "code",
   "execution_count": null,
   "id": "6663ce4b",
   "metadata": {},
   "outputs": [],
   "source": [
    "BATCH_SIZE = 100_000\n",
    "page = 0\n",
    "while True:\n",
    "    print(f\"Page n°{page}\")\n",
    "    users = user_collection.find({}).skip(page * BATCH_SIZE).limit(BATCH_SIZE)\n",
    "    \n",
    "    users_with_label = []\n",
    "    for user in users:\n",
    "        suspicious_score, suspicious_fields, label = get_label(user)\n",
    "        user['label'] = label\n",
    "        user['suspicious_score'] = suspicious_score\n",
    "        user['suspicious_fields'] = suspicious_fields\n",
    "        users_with_label.append(user)\n",
    "    \n",
    "    if(len(users_with_label) == 0):\n",
    "        print('FIN')\n",
    "        break\n",
    "\n",
    "    user_labeled_collection.insert_many(users_with_label)\n",
    "\n",
    "    page += 1"
   ]
  },
  {
   "cell_type": "markdown",
   "id": "b318102f",
   "metadata": {},
   "source": [
    "## Quelques statistiques"
   ]
  },
  {
   "cell_type": "markdown",
   "id": "4f566895",
   "metadata": {},
   "source": [
    "Regarder la répartition des points de suspicion"
   ]
  },
  {
   "cell_type": "code",
   "execution_count": null,
   "id": "bc310ac2",
   "metadata": {},
   "outputs": [],
   "source": [
    "res = user_labeled_collection.aggregate([\n",
    "    {\n",
    "        \"$group\": {\n",
    "            \"_id\": \"$suspicious_score\",\n",
    "            \"count\": { \"$sum\": 1 }\n",
    "        }\n",
    "    },\n",
    "    { \n",
    "        \"$sort\" : { \n",
    "            \"count\" : -1 \n",
    "        } \n",
    "    }\n",
    "])\n",
    "\n",
    "docs = []\n",
    "for doc in res:\n",
    "    print(doc)\n",
    "    docs.append(doc)"
   ]
  },
  {
   "cell_type": "markdown",
   "id": "790c8d08",
   "metadata": {},
   "source": [
    "Regarder la répartition des labels atypique ou non"
   ]
  },
  {
   "cell_type": "code",
   "execution_count": null,
   "id": "17ca3c13",
   "metadata": {},
   "outputs": [],
   "source": [
    "res = user_labeled_collection.aggregate([\n",
    "    {\n",
    "        \"$group\": {\n",
    "            \"_id\": \"$label\",\n",
    "            \"count\": { \"$sum\": 1 }\n",
    "        }\n",
    "    },\n",
    "    { \n",
    "        \"$sort\" : { \n",
    "            \"count\" : -1 \n",
    "        } \n",
    "    }\n",
    "])\n",
    "\n",
    "docs = []\n",
    "for doc in res:\n",
    "    print(doc)\n",
    "    docs.append(doc)"
   ]
  }
 ],
 "metadata": {
  "kernelspec": {
   "display_name": "Python 3 (ipykernel)",
   "language": "python",
   "name": "python3"
  },
  "language_info": {
   "codemirror_mode": {
    "name": "ipython",
    "version": 3
   },
   "file_extension": ".py",
   "mimetype": "text/x-python",
   "name": "python",
   "nbconvert_exporter": "python",
   "pygments_lexer": "ipython3",
   "version": "3.9.13"
  }
 },
 "nbformat": 4,
 "nbformat_minor": 5
}
